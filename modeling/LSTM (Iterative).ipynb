{
 "cells": [
  {
   "cell_type": "markdown",
   "metadata": {},
   "source": [
    "# To Do\n",
    "\n",
    "1. Try different architectures\n",
    "2. Try stateful/stateless LSTM.\n",
    "3. Add OAT, holidays.\n",
    "4. Check if data has consecutive blocks."
   ]
  },
  {
   "cell_type": "code",
   "execution_count": null,
   "metadata": {},
   "outputs": [],
   "source": [
    "import numpy as np\n",
    "import pandas as pd\n",
    "from scipy import stats\n",
    "from sklearn.preprocessing import MinMaxScaler\n",
    "from sklearn.model_selection import train_test_split\n",
    "from keras.models import Sequential\n",
    "from keras.callbacks import EarlyStopping\n",
    "from keras.layers import Dropout, Dense, LSTM\n",
    "from statsmodels.tsa.stattools import adfuller\n",
    "from statsmodels.graphics.tsaplots import plot_acf, plot_pacf\n",
    "\n",
    "import matplotlib.pyplot as plt\n",
    "%matplotlib inline\n",
    "\n",
    "import warnings\n",
    "warnings.filterwarnings('ignore')"
   ]
  },
  {
   "cell_type": "code",
   "execution_count": null,
   "metadata": {},
   "outputs": [],
   "source": [
    "power_data_folder = '/Users/pranavhgupta/Documents/GitHub/XBOS_HVAC_Predictions/micro-service/data'\n",
    "hvac_states_data_folder = '/Users/pranavhgupta/Documents/GitHub/XBOS_HVAC_Predictions/micro-service/hvac_states_batch_data'\n",
    "site = 'avenal-animal-shelter'"
   ]
  },
  {
   "cell_type": "markdown",
   "metadata": {},
   "source": [
    "# Import data"
   ]
  },
  {
   "cell_type": "markdown",
   "metadata": {},
   "source": [
    "## Power data"
   ]
  },
  {
   "cell_type": "code",
   "execution_count": null,
   "metadata": {},
   "outputs": [],
   "source": [
    "df_power = pd.read_csv(power_data_folder + '/power_' + site + '.csv', index_col=[0], parse_dates=True)\n",
    "df_power.columns = ['power']\n",
    "df_power.head()"
   ]
  },
  {
   "cell_type": "code",
   "execution_count": null,
   "metadata": {
    "scrolled": true
   },
   "outputs": [],
   "source": [
    "df_power.plot(figsize=(18,5))"
   ]
  },
  {
   "cell_type": "markdown",
   "metadata": {},
   "source": [
    "### Check for missing data"
   ]
  },
  {
   "cell_type": "code",
   "execution_count": null,
   "metadata": {},
   "outputs": [],
   "source": [
    "df_power.isna().any()"
   ]
  },
  {
   "cell_type": "markdown",
   "metadata": {},
   "source": [
    "### Clean data"
   ]
  },
  {
   "cell_type": "code",
   "execution_count": null,
   "metadata": {},
   "outputs": [],
   "source": [
    "# Resample to 5min\n",
    "df_processed = df_power.resample('5T').mean()\n",
    "\n",
    "df_processed.head()"
   ]
  },
  {
   "cell_type": "code",
   "execution_count": null,
   "metadata": {
    "scrolled": false
   },
   "outputs": [],
   "source": [
    "df_processed.plot(figsize=(18,5))"
   ]
  },
  {
   "cell_type": "markdown",
   "metadata": {},
   "source": [
    "### Check for missing data"
   ]
  },
  {
   "cell_type": "code",
   "execution_count": null,
   "metadata": {},
   "outputs": [],
   "source": [
    "print(df_processed.isna().any())\n",
    "print('\\n')\n",
    "missing = df_processed['power'].isnull().sum()\n",
    "total = df_processed['power'].shape[0]\n",
    "print('% Missing data for power: ', (missing/total)*100, '%')"
   ]
  },
  {
   "cell_type": "markdown",
   "metadata": {},
   "source": [
    "### Depending on the percent missing data, either drop it or forward fill the NaN's"
   ]
  },
  {
   "cell_type": "code",
   "execution_count": null,
   "metadata": {},
   "outputs": [],
   "source": [
    "# Option 1: Drop NaN's\n",
    "df_processed.dropna(inplace=True)\n",
    "\n",
    "# # Option 2: ffill NaN's\n",
    "# df_processed = df_processed.fillna(method='ffill')"
   ]
  },
  {
   "cell_type": "markdown",
   "metadata": {},
   "source": [
    "### Normalize data"
   ]
  },
  {
   "cell_type": "code",
   "execution_count": null,
   "metadata": {
    "scrolled": true
   },
   "outputs": [],
   "source": [
    "scaler = MinMaxScaler(feature_range=(0,1))\n",
    "df_normalized = pd.DataFrame(scaler.fit_transform(df_processed), \n",
    "                             columns=df_processed.columns, index=df_processed.index)\n",
    "df_normalized.head()"
   ]
  },
  {
   "cell_type": "markdown",
   "metadata": {},
   "source": [
    "### Check for missing data"
   ]
  },
  {
   "cell_type": "code",
   "execution_count": null,
   "metadata": {
    "scrolled": false
   },
   "outputs": [],
   "source": [
    "df_normalized.isna().any()"
   ]
  },
  {
   "cell_type": "markdown",
   "metadata": {},
   "source": [
    "## Check for stationarity"
   ]
  },
  {
   "cell_type": "code",
   "execution_count": null,
   "metadata": {},
   "outputs": [],
   "source": [
    "result = adfuller(df_normalized['power'], autolag='AIC')\n",
    "output = pd.Series(result[0:4], index=['Test Statistic', 'p-value', '#Lags Used',\n",
    "                                      '#Observations Used'])\n",
    "for key, value in result[4].items():\n",
    "    output['Critical Value (%s)' % key] = value\n",
    "    \n",
    "output"
   ]
  },
  {
   "cell_type": "markdown",
   "metadata": {},
   "source": [
    "## HVAC States data"
   ]
  },
  {
   "cell_type": "code",
   "execution_count": null,
   "metadata": {
    "scrolled": true
   },
   "outputs": [],
   "source": [
    "df_hvac_states = pd.read_csv(hvac_states_data_folder + '/hvac_states_' + site + '.csv', \n",
    "                                 index_col=[0], parse_dates=True)\n",
    "df_hvac_states.columns = ['zone' + str(i) for i in range(len(df_hvac_states.columns))]\n",
    "df_hvac_states.head()"
   ]
  },
  {
   "cell_type": "markdown",
   "metadata": {},
   "source": [
    "### Check for missing data"
   ]
  },
  {
   "cell_type": "code",
   "execution_count": null,
   "metadata": {
    "scrolled": true
   },
   "outputs": [],
   "source": [
    "df_hvac_states.isna().any()"
   ]
  },
  {
   "cell_type": "markdown",
   "metadata": {},
   "source": [
    "### Convert categorical (HVAC states) into dummy variables"
   ]
  },
  {
   "cell_type": "code",
   "execution_count": null,
   "metadata": {},
   "outputs": [],
   "source": [
    "var_to_expand = df_hvac_states.columns\n",
    "\n",
    "# One-hot encode the HVAC states\n",
    "for var in var_to_expand:\n",
    "\n",
    "    add_var = pd.get_dummies(df_hvac_states[var], prefix=var, drop_first=True)\n",
    "\n",
    "    # Add all the columns to the model data\n",
    "    df_hvac_states = df_hvac_states.join(add_var)\n",
    "\n",
    "    # Drop the original column that was expanded\n",
    "    df_hvac_states.drop(columns=[var], inplace=True)\n",
    "    \n",
    "df_hvac_states.head()"
   ]
  },
  {
   "cell_type": "code",
   "execution_count": null,
   "metadata": {},
   "outputs": [],
   "source": [
    "# def func(row):\n",
    "#     \"\"\" Possible situations: (0,0,0), (1,0,1), (0,1,2) --> 0, 1, 2\n",
    "    \n",
    "#     If all are same --> first element\n",
    "#     If there is a majority among the 3 --> majority\n",
    "#     If all are unique --> last element\n",
    "    \n",
    "#     \"\"\"\n",
    "\n",
    "#     count = len(set(list(row.values)))\n",
    "#     if count == 1:\n",
    "#         return row.values[0]\n",
    "#     elif count == 2:\n",
    "#         max(set(list(row.values)), key=list(row.values).count)\n",
    "#     else:\n",
    "#         return row.values[-1]\n",
    "    \n",
    "# resample_df_hvac = df_raw_hvac_states.resample('15T').apply(func)\n",
    "\n",
    "# resample_df_hvac = resample_df_hvac.fillna(method='ffill')\n",
    "# resample_df_hvac.isna().any()"
   ]
  },
  {
   "cell_type": "markdown",
   "metadata": {},
   "source": [
    "# Join power and hvac_states data"
   ]
  },
  {
   "cell_type": "code",
   "execution_count": null,
   "metadata": {
    "scrolled": true
   },
   "outputs": [],
   "source": [
    "# CHECK: pd.concat gives a lot of duplicate indices. \n",
    "# Try below code to see,\n",
    "# start = pd.Timestamp('2018-02-10 06:00:00+00:00')\n",
    "# df.loc[start]\n",
    "\n",
    "df = pd.concat([df_normalized, df_hvac_states], axis=1)\n",
    "df.head()"
   ]
  },
  {
   "cell_type": "code",
   "execution_count": null,
   "metadata": {},
   "outputs": [],
   "source": [
    "df = df.drop_duplicates()"
   ]
  },
  {
   "cell_type": "code",
   "execution_count": null,
   "metadata": {},
   "outputs": [],
   "source": [
    "missing = df.isnull().sum()\n",
    "total = df.shape[0]\n",
    "print('missing data for power: ', (missing/total)*100, '%')"
   ]
  },
  {
   "cell_type": "markdown",
   "metadata": {},
   "source": [
    "### Depending on the percent missing data, either drop it or forward fill the NaN's"
   ]
  },
  {
   "cell_type": "code",
   "execution_count": null,
   "metadata": {},
   "outputs": [],
   "source": [
    "# Option 1: Drop NaN's\n",
    "df.dropna(inplace=True)\n",
    "\n",
    "# # Option 2: ffill NaN's\n",
    "# df = df.fillna(method='ffill')"
   ]
  },
  {
   "cell_type": "markdown",
   "metadata": {},
   "source": [
    "# Visualizations"
   ]
  },
  {
   "cell_type": "markdown",
   "metadata": {},
   "source": [
    "## Box plot"
   ]
  },
  {
   "cell_type": "code",
   "execution_count": null,
   "metadata": {},
   "outputs": [],
   "source": [
    "df_box_plot = pd.DataFrame(df['power'])\n",
    "df_box_plot['quarter'] = df_box_plot.index.quarter\n",
    "df_box_plot.boxplot(column='power', by='quarter')"
   ]
  },
  {
   "cell_type": "markdown",
   "metadata": {},
   "source": [
    "## Histogram"
   ]
  },
  {
   "cell_type": "code",
   "execution_count": null,
   "metadata": {},
   "outputs": [],
   "source": [
    "df['power'].hist()"
   ]
  },
  {
   "cell_type": "markdown",
   "metadata": {},
   "source": [
    "## ACF and PACF"
   ]
  },
  {
   "cell_type": "code",
   "execution_count": null,
   "metadata": {},
   "outputs": [],
   "source": [
    "fig1 = plot_acf(df_processed['power'], lags=50)\n",
    "fig2 = plot_pacf(df_processed['power'], lags=50)"
   ]
  },
  {
   "cell_type": "markdown",
   "metadata": {},
   "source": [
    "# Prepare data"
   ]
  },
  {
   "cell_type": "markdown",
   "metadata": {},
   "source": [
    "## Split into training & testing data"
   ]
  },
  {
   "cell_type": "code",
   "execution_count": null,
   "metadata": {},
   "outputs": [],
   "source": [
    "X_train = df[(df.index < '2019-01-01')]\n",
    "y_train = df.loc[(df.index < '2019-01-01'), 'power']\n",
    "\n",
    "X_test = df[(df.index >= '2019-01-01')]\n",
    "y_test = df.loc[(df.index >= '2019-01-01'), 'power']"
   ]
  },
  {
   "cell_type": "markdown",
   "metadata": {},
   "source": [
    "## Prepare data for LSTM\n",
    "\n",
    "Note: NUM_TIMESTEPS is a hyper-parameter too!"
   ]
  },
  {
   "cell_type": "code",
   "execution_count": null,
   "metadata": {},
   "outputs": [],
   "source": [
    "# Number of columns in X_train\n",
    "NUM_FEATURES    = len(X_train.columns)\n",
    "\n",
    "# A sequence contains NUM_TIMESTEPS number of elements and predicts NUM_MODEL_PREDICTIONS number of predictions\n",
    "NUM_TIMESTEPS   = 24\n",
    "\n",
    "# Since this is an iterative method, model will predict only 1 timestep ahead\n",
    "NUM_MODEL_PREDICTIONS = 1\n",
    "\n",
    "# 4 hour predictions = Fourty eight 5min predictions\n",
    "NUM_ACTUAL_PREDICTIONS = 48"
   ]
  },
  {
   "cell_type": "code",
   "execution_count": null,
   "metadata": {},
   "outputs": [],
   "source": [
    "train_x, train_y = [], []\n",
    "for i in range(NUM_TIMESTEPS, len(X_train)-NUM_MODEL_PREDICTIONS):\n",
    "    train_x.append(X_train.values[i-NUM_TIMESTEPS:i])\n",
    "    train_y.append(y_train.values[i:i+NUM_MODEL_PREDICTIONS]) \n",
    "train_x, train_y = np.array(train_x), np.array(train_y)\n",
    "print(train_x.shape)\n",
    "print(train_y.shape)\n",
    "\n",
    "test_x, test_y = [], []\n",
    "for i in range(NUM_TIMESTEPS, len(X_test)-NUM_MODEL_PREDICTIONS):\n",
    "    test_x.append(X_test.values[i-NUM_TIMESTEPS:i])\n",
    "    test_y.append(y_test.values[i:i+NUM_MODEL_PREDICTIONS])   \n",
    "test_x, test_y = np.array(test_x), np.array(test_y)\n",
    "print(test_x.shape)\n",
    "print(test_y.shape)"
   ]
  },
  {
   "cell_type": "markdown",
   "metadata": {},
   "source": [
    "# LSTM"
   ]
  },
  {
   "cell_type": "code",
   "execution_count": null,
   "metadata": {},
   "outputs": [],
   "source": [
    "model = Sequential([\n",
    "    \n",
    "    LSTM(units=128, input_shape=(NUM_TIMESTEPS, NUM_FEATURES), return_sequences=True),\n",
    "    Dropout(0.2),\n",
    "    \n",
    "    LSTM(units=128, return_sequences=True),\n",
    "    Dropout(0.2),\n",
    "    \n",
    "    LSTM(units=128, activation='softmax', return_sequences=False),\n",
    "    Dropout(0.2),\n",
    "    \n",
    "    Dense(NUM_MODEL_PREDICTIONS)\n",
    "])\n",
    "\n",
    "model.compile(optimizer='adam', loss='mean_squared_error', metrics=['accuracy'])\n",
    "model.summary()"
   ]
  },
  {
   "cell_type": "code",
   "execution_count": null,
   "metadata": {},
   "outputs": [],
   "source": [
    "# Stop training if validation loss fails to decrease\n",
    "callbacks = [EarlyStopping(monitor='val_loss', mode='min', verbose=1)]\n",
    "\n",
    "history = model.fit(train_x, train_y, \n",
    "                    epochs=100, batch_size=128, shuffle=False, \n",
    "                    validation_data=(test_x, test_y), callbacks=callbacks)"
   ]
  },
  {
   "cell_type": "markdown",
   "metadata": {},
   "source": [
    "# Results"
   ]
  },
  {
   "cell_type": "markdown",
   "metadata": {},
   "source": [
    "## Loss"
   ]
  },
  {
   "cell_type": "code",
   "execution_count": null,
   "metadata": {},
   "outputs": [],
   "source": [
    "train_loss = history.history['loss']\n",
    "val_loss = history.history['val_loss']\n",
    "epochs = [x for x in range(len(train_loss))]\n",
    "\n",
    "df_train_loss = pd.DataFrame(train_loss, columns=['train_loss'], index=epochs)\n",
    "df_val_loss   = pd.DataFrame(val_loss, columns=['val_loss'], index=epochs)\n",
    "\n",
    "df_loss = pd.concat([df_train_loss, df_val_loss], axis=1)"
   ]
  },
  {
   "cell_type": "code",
   "execution_count": null,
   "metadata": {
    "scrolled": true
   },
   "outputs": [],
   "source": [
    "df_loss.plot(figsize=(18,5))"
   ]
  },
  {
   "cell_type": "markdown",
   "metadata": {},
   "source": [
    "## Accuracy"
   ]
  },
  {
   "cell_type": "code",
   "execution_count": null,
   "metadata": {},
   "outputs": [],
   "source": [
    "train_acc = history.history['acc']\n",
    "val_acc   = history.history['val_acc']\n",
    "epochs    = [x for x in range(len(train_acc))]\n",
    "\n",
    "df_train_acc = pd.DataFrame(train_acc, columns=['train_acc'], index=epochs)\n",
    "df_val_acc   = pd.DataFrame(val_acc, columns=['val_acc'], index=epochs)\n",
    "\n",
    "df_acc = pd.concat([df_train_acc, df_val_acc], axis=1)"
   ]
  },
  {
   "cell_type": "code",
   "execution_count": null,
   "metadata": {},
   "outputs": [],
   "source": [
    "df_acc.plot(figsize=(18,5))"
   ]
  },
  {
   "cell_type": "markdown",
   "metadata": {},
   "source": [
    "# Plot predicted & true values"
   ]
  },
  {
   "cell_type": "code",
   "execution_count": null,
   "metadata": {},
   "outputs": [],
   "source": [
    "# Make predictions through trained model\n",
    "pred_y = model.predict(test_x)\n",
    "\n",
    "# Convert predicted and actual values to dataframes (for plotting)\n",
    "df_y_pred = pd.DataFrame(scaler.inverse_transform(pred_y),\n",
    "                         index=y_test[NUM_TIMESTEPS:-NUM_MODEL_PREDICTIONS].index, \n",
    "                         columns=['power'])\n",
    "\n",
    "df_y_true = pd.DataFrame(scaler.inverse_transform(test_y),\n",
    "                         index=y_test[NUM_TIMESTEPS:-NUM_MODEL_PREDICTIONS].index, \n",
    "                         columns=['power'])"
   ]
  },
  {
   "cell_type": "code",
   "execution_count": null,
   "metadata": {
    "scrolled": false
   },
   "outputs": [],
   "source": [
    "df_y_pred.head()"
   ]
  },
  {
   "cell_type": "code",
   "execution_count": null,
   "metadata": {},
   "outputs": [],
   "source": [
    "df_plot = pd.concat([df_y_pred, df_y_true], axis=1)\n",
    "df_plot.columns = ['pred', 'true']\n",
    "\n",
    "df_plot.head()"
   ]
  },
  {
   "cell_type": "code",
   "execution_count": null,
   "metadata": {},
   "outputs": [],
   "source": [
    "df_plot.plot(figsize=(18,5))"
   ]
  },
  {
   "cell_type": "code",
   "execution_count": null,
   "metadata": {},
   "outputs": [],
   "source": [
    "# # Plot between two time periods\n",
    "\n",
    "# start = pd.Timestamp('2019-01-01 23:45:00+00:00')\n",
    "# end = pd.Timestamp('2019-02-01 23:45:00+00:00')\n",
    "# df_plot.loc[start:end].plot(figsize=(18,5))"
   ]
  },
  {
   "cell_type": "markdown",
   "metadata": {},
   "source": [
    "# Make predictions through iterative fitting for a particular timestamp"
   ]
  },
  {
   "cell_type": "markdown",
   "metadata": {},
   "source": [
    "## Choose a particular timestamp"
   ]
  },
  {
   "cell_type": "code",
   "execution_count": null,
   "metadata": {},
   "outputs": [],
   "source": [
    "timestamp = pd.Timestamp('2019-01-01 23:45:00+00:00')\n",
    "\n",
    "# Keep copy of timestamp to use it after the for loop\n",
    "orig_timestamp = timestamp"
   ]
  },
  {
   "cell_type": "code",
   "execution_count": null,
   "metadata": {},
   "outputs": [],
   "source": [
    "X_test_pred = X_test.copy()\n",
    "\n",
    "for _ in range(NUM_ACTUAL_PREDICTIONS):\n",
    "    \n",
    "    # Create test sequence\n",
    "    test = np.array(X_test_pred.loc[:timestamp].tail(NUM_TIMESTEPS))\n",
    "    test = np.reshape(test, (1, test.shape[0], test.shape[1]))\n",
    "    \n",
    "    # Increment timestamp\n",
    "    timestamp = X_test_pred.loc[timestamp:].index.values[1]\n",
    "\n",
    "    # Make prediction\n",
    "    y_pred_power = model.predict(test)\n",
    "    y_pred_power = list(y_pred_power[0])\n",
    "    \n",
    "    # Add prediction to end of test array\n",
    "    X_test_pred.loc[timestamp, 'power'] = y_pred_power"
   ]
  },
  {
   "cell_type": "code",
   "execution_count": null,
   "metadata": {},
   "outputs": [],
   "source": [
    "# X_test_pred.loc[pd.Timestamp('2019-01-01 23:45:00+00:00'):].head(NUM_ACTUAL_PREDICTIONS)"
   ]
  },
  {
   "cell_type": "code",
   "execution_count": null,
   "metadata": {
    "scrolled": true
   },
   "outputs": [],
   "source": [
    "# X_test.loc[pd.Timestamp('2019-01-01 23:45:00+00:00'):].head(NUM_ACTUAL_PREDICTIONS)"
   ]
  },
  {
   "cell_type": "markdown",
   "metadata": {},
   "source": [
    "## Plot"
   ]
  },
  {
   "cell_type": "code",
   "execution_count": null,
   "metadata": {},
   "outputs": [],
   "source": [
    "arr_pred = np.reshape(X_test_pred.loc[orig_timestamp:,'power'].head(NUM_ACTUAL_PREDICTIONS).values, (-1, 1))\n",
    "arr_true = np.reshape(X_test.loc[orig_timestamp:,'power'].head(NUM_ACTUAL_PREDICTIONS).values, (-1, 1))\n",
    "\n",
    "df_pred = pd.DataFrame(scaler.inverse_transform(arr_pred),\n",
    "                         index=X_test_pred.loc[orig_timestamp:].head(NUM_ACTUAL_PREDICTIONS).index)\n",
    "\n",
    "df_true = pd.DataFrame(scaler.inverse_transform(arr_true),\n",
    "                         index=X_test.loc[orig_timestamp:].head(NUM_ACTUAL_PREDICTIONS).index)"
   ]
  },
  {
   "cell_type": "code",
   "execution_count": null,
   "metadata": {},
   "outputs": [],
   "source": [
    "df_plot = pd.concat([df_pred, df_true], axis=1)\n",
    "df_plot.columns = ['pred', 'true']"
   ]
  },
  {
   "cell_type": "code",
   "execution_count": null,
   "metadata": {},
   "outputs": [],
   "source": [
    "df_plot.plot(figsize=(18,5))"
   ]
  },
  {
   "cell_type": "markdown",
   "metadata": {},
   "source": [
    "# Get accuracy and mse of the entire test set using iterative fitting\n",
    "\n",
    "Note: This takes a while to compute!"
   ]
  },
  {
   "cell_type": "code",
   "execution_count": null,
   "metadata": {},
   "outputs": [],
   "source": [
    "# These two lists store the entire dataframes of 48 predictions of each element in test set!\n",
    "# This is not really necessary but only to double check if the outputs are in the correct format\n",
    "predicted_values = []\n",
    "true_values = []\n",
    "\n",
    "for i in range(NUM_TIMESTEPS, len(X_test)-NUM_ACTUAL_PREDICTIONS):\n",
    "    \n",
    "    # Keep copy of timestamp to store it for use after the for loop \n",
    "    timestamp = pd.Timestamp(X_test.index.values[i])\n",
    "    orig_timestamp = timestamp\n",
    "    \n",
    "    X_test_pred = X_test.copy()\n",
    "    \n",
    "    for _ in range(NUM_ACTUAL_PREDICTIONS):\n",
    "    \n",
    "        # Create test sequence\n",
    "        test = np.array(X_test_pred.loc[:timestamp].tail(NUM_TIMESTEPS))\n",
    "        test = np.reshape(test, (1, test.shape[0], test.shape[1]))\n",
    "\n",
    "        # Increment timestamp\n",
    "        timestamp = X_test_pred.loc[timestamp:].index.values[1]\n",
    "\n",
    "        # Make prediction\n",
    "        y_pred_power = model.predict(test)\n",
    "        y_pred_power = list(y_pred_power[0])\n",
    "\n",
    "        # Add prediction to end of test array\n",
    "        X_test_pred.loc[timestamp, 'power'] = y_pred_power\n",
    "        \n",
    "    predicted_values.append(X_test_pred.loc[orig_timestamp:].head(NUM_ACTUAL_PREDICTIONS))\n",
    "    true_values.append(X_test.loc[orig_timestamp:].head(NUM_ACTUAL_PREDICTIONS))"
   ]
  },
  {
   "cell_type": "code",
   "execution_count": null,
   "metadata": {},
   "outputs": [],
   "source": [
    "# Get only the power values from the original predicted_values and true_values lists and then reshape them \n",
    "# into the correct format for sklearn metrics' functions.\n",
    "\n",
    "predicted_power_values = []\n",
    "true_power_values = []\n",
    "\n",
    "for df in predicted_values:\n",
    "    predicted_power_values.append(df[['power']].values)\n",
    "    \n",
    "for df in true_values:\n",
    "    true_power_values.append(df[['power']].values)\n",
    "    \n",
    "predicted_power_values = np.array(predicted_power_values)\n",
    "predicted_power_values = np.reshape(predicted_power_values, \n",
    "                                    (predicted_power_values.shape[0], predicted_power_values.shape[1]))\n",
    "\n",
    "true_power_values = np.array(true_power_values)\n",
    "true_power_values = np.reshape(true_power_values, \n",
    "                                    (true_power_values.shape[0], true_power_values.shape[1]))"
   ]
  },
  {
   "cell_type": "code",
   "execution_count": null,
   "metadata": {},
   "outputs": [],
   "source": [
    "from sklearn.metrics import r2_score\n",
    "score = r2_score(true_power_values, predicted_power_values)\n",
    "score"
   ]
  },
  {
   "cell_type": "code",
   "execution_count": null,
   "metadata": {},
   "outputs": [],
   "source": [
    "from sklearn.metrics import mean_squared_error\n",
    "mse = mean_squared_error(true_power_values, predicted_power_values)\n",
    "mse"
   ]
  },
  {
   "cell_type": "code",
   "execution_count": null,
   "metadata": {},
   "outputs": [],
   "source": []
  }
 ],
 "metadata": {
  "kernelspec": {
   "display_name": "Python 3",
   "language": "python",
   "name": "python3"
  },
  "language_info": {
   "codemirror_mode": {
    "name": "ipython",
    "version": 3
   },
   "file_extension": ".py",
   "mimetype": "text/x-python",
   "name": "python",
   "nbconvert_exporter": "python",
   "pygments_lexer": "ipython3",
   "version": "3.7.3"
  }
 },
 "nbformat": 4,
 "nbformat_minor": 2
}
