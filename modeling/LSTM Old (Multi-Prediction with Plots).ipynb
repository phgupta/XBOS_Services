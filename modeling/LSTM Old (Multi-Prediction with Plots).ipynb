{
 "cells": [
  {
   "cell_type": "markdown",
   "metadata": {},
   "source": [
    "# To Do\n",
    "\n",
    "1. Look into stateful/stateless LSTM.\n",
    "2. Making multiple predictions into the future (many-to-many-LSTM?)\n",
    "3. Add data in batches\n",
    "4. Time Features: HVAC States, holidays\n",
    "5. Test on all buildings (Green_Button_Meter)"
   ]
  },
  {
   "cell_type": "code",
   "execution_count": 1,
   "metadata": {},
   "outputs": [
    {
     "name": "stderr",
     "output_type": "stream",
     "text": [
      "Using TensorFlow backend.\n"
     ]
    }
   ],
   "source": [
    "import numpy as np\n",
    "import pandas as pd\n",
    "from scipy import stats\n",
    "from sklearn.preprocessing import MinMaxScaler\n",
    "from sklearn.model_selection import train_test_split\n",
    "from keras.models import Sequential\n",
    "from keras.layers import Dropout, Dense, LSTM\n",
    "from statsmodels.tsa.stattools import adfuller\n",
    "from statsmodels.graphics.tsaplots import plot_acf, plot_pacf\n",
    "\n",
    "import matplotlib.pyplot as plt\n",
    "%matplotlib inline\n",
    "\n",
    "import warnings\n",
    "warnings.filterwarnings('ignore')"
   ]
  },
  {
   "cell_type": "code",
   "execution_count": 2,
   "metadata": {},
   "outputs": [],
   "source": [
    "data_folder = 'data'\n",
    "site = 'avenal-movie-theatre'"
   ]
  },
  {
   "cell_type": "markdown",
   "metadata": {},
   "source": [
    "# Import data"
   ]
  },
  {
   "cell_type": "markdown",
   "metadata": {},
   "source": [
    "## Eagle (power) data"
   ]
  },
  {
   "cell_type": "code",
   "execution_count": 3,
   "metadata": {},
   "outputs": [
    {
     "data": {
      "text/html": [
       "<div>\n",
       "<style scoped>\n",
       "    .dataframe tbody tr th:only-of-type {\n",
       "        vertical-align: middle;\n",
       "    }\n",
       "\n",
       "    .dataframe tbody tr th {\n",
       "        vertical-align: top;\n",
       "    }\n",
       "\n",
       "    .dataframe thead th {\n",
       "        text-align: right;\n",
       "    }\n",
       "</style>\n",
       "<table border=\"1\" class=\"dataframe\">\n",
       "  <thead>\n",
       "    <tr style=\"text-align: right;\">\n",
       "      <th></th>\n",
       "      <th>power</th>\n",
       "    </tr>\n",
       "    <tr>\n",
       "      <th>datetime</th>\n",
       "      <th></th>\n",
       "    </tr>\n",
       "  </thead>\n",
       "  <tbody>\n",
       "    <tr>\n",
       "      <th>2018-01-01 00:00:04.574889+00:00</th>\n",
       "      <td>400.0</td>\n",
       "    </tr>\n",
       "    <tr>\n",
       "      <th>2018-01-01 00:00:10.215095+00:00</th>\n",
       "      <td>440.0</td>\n",
       "    </tr>\n",
       "    <tr>\n",
       "      <th>2018-01-01 00:00:13.496753+00:00</th>\n",
       "      <td>440.0</td>\n",
       "    </tr>\n",
       "    <tr>\n",
       "      <th>2018-01-01 00:00:20.031088+00:00</th>\n",
       "      <td>440.0</td>\n",
       "    </tr>\n",
       "    <tr>\n",
       "      <th>2018-01-01 00:00:33.525473+00:00</th>\n",
       "      <td>400.0</td>\n",
       "    </tr>\n",
       "  </tbody>\n",
       "</table>\n",
       "</div>"
      ],
      "text/plain": [
       "                                  power\n",
       "datetime                               \n",
       "2018-01-01 00:00:04.574889+00:00  400.0\n",
       "2018-01-01 00:00:10.215095+00:00  440.0\n",
       "2018-01-01 00:00:13.496753+00:00  440.0\n",
       "2018-01-01 00:00:20.031088+00:00  440.0\n",
       "2018-01-01 00:00:33.525473+00:00  400.0"
      ]
     },
     "execution_count": 3,
     "metadata": {},
     "output_type": "execute_result"
    }
   ],
   "source": [
    "df_raw = pd.read_csv(data_folder + '/power_' + site + '.csv', index_col=[0], parse_dates=True)\n",
    "df_raw = df_raw[(df_raw.index < '2019-04-01')]\n",
    "df_raw.head()"
   ]
  },
  {
   "cell_type": "code",
   "execution_count": 4,
   "metadata": {
    "scrolled": true
   },
   "outputs": [
    {
     "data": {
      "text/plain": [
       "<matplotlib.axes._subplots.AxesSubplot at 0x1a24652d30>"
      ]
     },
     "execution_count": 4,
     "metadata": {},
     "output_type": "execute_result"
    },
    {
     "data": {
      "image/png": "[encoded data removed]",
      "text/plain": [
       "<Figure size 1296x360 with 1 Axes>"
      ]
     },
     "metadata": {
      "needs_background": "light"
     },
     "output_type": "display_data"
    }
   ],
   "source": [
    "df_raw.plot(figsize=(18,5))"
   ]
  },
  {
   "cell_type": "markdown",
   "metadata": {},
   "source": [
    "## Clean data"
   ]
  },
  {
   "cell_type": "code",
   "execution_count": 5,
   "metadata": {},
   "outputs": [
    {
     "data": {
      "text/html": [
       "<div>\n",
       "<style scoped>\n",
       "    .dataframe tbody tr th:only-of-type {\n",
       "        vertical-align: middle;\n",
       "    }\n",
       "\n",
       "    .dataframe tbody tr th {\n",
       "        vertical-align: top;\n",
       "    }\n",
       "\n",
       "    .dataframe thead th {\n",
       "        text-align: right;\n",
       "    }\n",
       "</style>\n",
       "<table border=\"1\" class=\"dataframe\">\n",
       "  <thead>\n",
       "    <tr style=\"text-align: right;\">\n",
       "      <th></th>\n",
       "      <th>power</th>\n",
       "    </tr>\n",
       "    <tr>\n",
       "      <th>datetime</th>\n",
       "      <th></th>\n",
       "    </tr>\n",
       "  </thead>\n",
       "  <tbody>\n",
       "    <tr>\n",
       "      <th>2018-01-01 00:00:00+00:00</th>\n",
       "      <td>416.991150</td>\n",
       "    </tr>\n",
       "    <tr>\n",
       "      <th>2018-01-01 00:15:00+00:00</th>\n",
       "      <td>477.477477</td>\n",
       "    </tr>\n",
       "    <tr>\n",
       "      <th>2018-01-01 00:30:00+00:00</th>\n",
       "      <td>430.990991</td>\n",
       "    </tr>\n",
       "    <tr>\n",
       "      <th>2018-01-01 00:45:00+00:00</th>\n",
       "      <td>504.081633</td>\n",
       "    </tr>\n",
       "    <tr>\n",
       "      <th>2018-01-01 01:00:00+00:00</th>\n",
       "      <td>453.565217</td>\n",
       "    </tr>\n",
       "  </tbody>\n",
       "</table>\n",
       "</div>"
      ],
      "text/plain": [
       "                                power\n",
       "datetime                             \n",
       "2018-01-01 00:00:00+00:00  416.991150\n",
       "2018-01-01 00:15:00+00:00  477.477477\n",
       "2018-01-01 00:30:00+00:00  430.990991\n",
       "2018-01-01 00:45:00+00:00  504.081633\n",
       "2018-01-01 01:00:00+00:00  453.565217"
      ]
     },
     "execution_count": 5,
     "metadata": {},
     "output_type": "execute_result"
    }
   ],
   "source": [
    "df_processed = df_raw.resample('15T').mean()\n",
    "df_processed = df_processed[df_processed['power'] < 10000000]\n",
    "df_processed = df_processed[(np.abs(stats.zscore(df_processed)) < float(3)).all(axis=1)]\n",
    "df_processed.dropna(inplace=True)\n",
    "df_processed.head()"
   ]
  },
  {
   "cell_type": "code",
   "execution_count": 6,
   "metadata": {
    "scrolled": true
   },
   "outputs": [
    {
     "data": {
      "text/plain": [
       "<matplotlib.axes._subplots.AxesSubplot at 0x1c4c05dbe0>"
      ]
     },
     "execution_count": 6,
     "metadata": {},
     "output_type": "execute_result"
    },
    {
     "data": {
      "image/png": "[encoded data removed]",
      "text/plain": [
       "<Figure size 1296x360 with 1 Axes>"
      ]
     },
     "metadata": {
      "needs_background": "light"
     },
     "output_type": "display_data"
    }
   ],
   "source": [
    "df_processed.plot(figsize=(18,5))"
   ]
  },
  {
   "cell_type": "markdown",
   "metadata": {},
   "source": [
    "## Normalize data"
   ]
  },
  {
   "cell_type": "code",
   "execution_count": 7,
   "metadata": {
    "scrolled": true
   },
   "outputs": [
    {
     "data": {
      "text/html": [
       "<div>\n",
       "<style scoped>\n",
       "    .dataframe tbody tr th:only-of-type {\n",
       "        vertical-align: middle;\n",
       "    }\n",
       "\n",
       "    .dataframe tbody tr th {\n",
       "        vertical-align: top;\n",
       "    }\n",
       "\n",
       "    .dataframe thead th {\n",
       "        text-align: right;\n",
       "    }\n",
       "</style>\n",
       "<table border=\"1\" class=\"dataframe\">\n",
       "  <thead>\n",
       "    <tr style=\"text-align: right;\">\n",
       "      <th></th>\n",
       "      <th>power</th>\n",
       "    </tr>\n",
       "    <tr>\n",
       "      <th>datetime</th>\n",
       "      <th></th>\n",
       "    </tr>\n",
       "  </thead>\n",
       "  <tbody>\n",
       "    <tr>\n",
       "      <th>2018-01-01 00:00:00+00:00</th>\n",
       "      <td>0.016522</td>\n",
       "    </tr>\n",
       "    <tr>\n",
       "      <th>2018-01-01 00:15:00+00:00</th>\n",
       "      <td>0.026825</td>\n",
       "    </tr>\n",
       "    <tr>\n",
       "      <th>2018-01-01 00:30:00+00:00</th>\n",
       "      <td>0.018907</td>\n",
       "    </tr>\n",
       "    <tr>\n",
       "      <th>2018-01-01 00:45:00+00:00</th>\n",
       "      <td>0.031357</td>\n",
       "    </tr>\n",
       "    <tr>\n",
       "      <th>2018-01-01 01:00:00+00:00</th>\n",
       "      <td>0.022752</td>\n",
       "    </tr>\n",
       "  </tbody>\n",
       "</table>\n",
       "</div>"
      ],
      "text/plain": [
       "                              power\n",
       "datetime                           \n",
       "2018-01-01 00:00:00+00:00  0.016522\n",
       "2018-01-01 00:15:00+00:00  0.026825\n",
       "2018-01-01 00:30:00+00:00  0.018907\n",
       "2018-01-01 00:45:00+00:00  0.031357\n",
       "2018-01-01 01:00:00+00:00  0.022752"
      ]
     },
     "execution_count": 7,
     "metadata": {},
     "output_type": "execute_result"
    }
   ],
   "source": [
    "scaler = MinMaxScaler(feature_range=(0,1))\n",
    "df_normalized = pd.DataFrame(scaler.fit_transform(df_processed), \n",
    "                             columns=df_processed.columns, index=df_processed.index)\n",
    "df_normalized.head()"
   ]
  },
  {
   "cell_type": "markdown",
   "metadata": {},
   "source": [
    "## Check for missing data"
   ]
  },
  {
   "cell_type": "code",
   "execution_count": 8,
   "metadata": {
    "scrolled": true
   },
   "outputs": [
    {
     "data": {
      "text/plain": [
       "power    False\n",
       "dtype: bool"
      ]
     },
     "execution_count": 8,
     "metadata": {},
     "output_type": "execute_result"
    }
   ],
   "source": [
    "df_normalized.isna().any()"
   ]
  },
  {
   "cell_type": "markdown",
   "metadata": {},
   "source": [
    "## Check for stationarity"
   ]
  },
  {
   "cell_type": "code",
   "execution_count": 9,
   "metadata": {},
   "outputs": [
    {
     "data": {
      "text/plain": [
       "Test Statistic            -30.665127\n",
       "p-value                     0.000000\n",
       "#Lags Used                 48.000000\n",
       "#Observations Used      40294.000000\n",
       "Critical Value (1%)        -3.430512\n",
       "Critical Value (5%)        -2.861612\n",
       "Critical Value (10%)       -2.566808\n",
       "dtype: float64"
      ]
     },
     "execution_count": 9,
     "metadata": {},
     "output_type": "execute_result"
    }
   ],
   "source": [
    "result = adfuller(df_normalized['power'], autolag='AIC')\n",
    "output = pd.Series(result[0:4], index=['Test Statistic', 'p-value', '#Lags Used',\n",
    "                                      '#Observations Used'])\n",
    "for key, value in result[4].items():\n",
    "    output['Critical Value (%s)' % key] = value\n",
    "    \n",
    "output"
   ]
  },
  {
   "cell_type": "markdown",
   "metadata": {},
   "source": [
    "## HVAC States data"
   ]
  },
  {
   "cell_type": "code",
   "execution_count": 10,
   "metadata": {
    "scrolled": true
   },
   "outputs": [
    {
     "data": {
      "text/html": [
       "<div>\n",
       "<style scoped>\n",
       "    .dataframe tbody tr th:only-of-type {\n",
       "        vertical-align: middle;\n",
       "    }\n",
       "\n",
       "    .dataframe tbody tr th {\n",
       "        vertical-align: top;\n",
       "    }\n",
       "\n",
       "    .dataframe thead th {\n",
       "        text-align: right;\n",
       "    }\n",
       "</style>\n",
       "<table border=\"1\" class=\"dataframe\">\n",
       "  <thead>\n",
       "    <tr style=\"text-align: right;\">\n",
       "      <th></th>\n",
       "      <th>hvac_zone_lobby</th>\n",
       "      <th>hvac_zone_main_hallway</th>\n",
       "      <th>hvac_zone_room_a</th>\n",
       "      <th>hvac_zone_theater_2</th>\n",
       "      <th>hvac_zone_back_hallway</th>\n",
       "      <th>hvac_zone_room_d</th>\n",
       "      <th>hvac_zone_pegasus_hall</th>\n",
       "      <th>hvac_zone_theater_1</th>\n",
       "    </tr>\n",
       "  </thead>\n",
       "  <tbody>\n",
       "    <tr>\n",
       "      <th>2018-01-01 00:00:00+00:00</th>\n",
       "      <td>0.0</td>\n",
       "      <td>1.0</td>\n",
       "      <td>0.0</td>\n",
       "      <td>0.0</td>\n",
       "      <td>0.0</td>\n",
       "      <td>0.0</td>\n",
       "      <td>0.0</td>\n",
       "      <td>0.0</td>\n",
       "    </tr>\n",
       "    <tr>\n",
       "      <th>2018-01-01 00:05:00+00:00</th>\n",
       "      <td>0.0</td>\n",
       "      <td>1.0</td>\n",
       "      <td>0.0</td>\n",
       "      <td>0.0</td>\n",
       "      <td>0.0</td>\n",
       "      <td>0.0</td>\n",
       "      <td>0.0</td>\n",
       "      <td>0.0</td>\n",
       "    </tr>\n",
       "    <tr>\n",
       "      <th>2018-01-01 00:10:00+00:00</th>\n",
       "      <td>0.0</td>\n",
       "      <td>1.0</td>\n",
       "      <td>0.0</td>\n",
       "      <td>0.0</td>\n",
       "      <td>0.0</td>\n",
       "      <td>0.0</td>\n",
       "      <td>0.0</td>\n",
       "      <td>0.0</td>\n",
       "    </tr>\n",
       "    <tr>\n",
       "      <th>2018-01-01 00:15:00+00:00</th>\n",
       "      <td>0.0</td>\n",
       "      <td>1.0</td>\n",
       "      <td>0.0</td>\n",
       "      <td>0.0</td>\n",
       "      <td>0.0</td>\n",
       "      <td>0.0</td>\n",
       "      <td>0.0</td>\n",
       "      <td>0.0</td>\n",
       "    </tr>\n",
       "    <tr>\n",
       "      <th>2018-01-01 00:20:00+00:00</th>\n",
       "      <td>0.0</td>\n",
       "      <td>1.0</td>\n",
       "      <td>0.0</td>\n",
       "      <td>0.0</td>\n",
       "      <td>1.0</td>\n",
       "      <td>0.0</td>\n",
       "      <td>0.0</td>\n",
       "      <td>0.0</td>\n",
       "    </tr>\n",
       "  </tbody>\n",
       "</table>\n",
       "</div>"
      ],
      "text/plain": [
       "                           hvac_zone_lobby  hvac_zone_main_hallway  \\\n",
       "2018-01-01 00:00:00+00:00              0.0                     1.0   \n",
       "2018-01-01 00:05:00+00:00              0.0                     1.0   \n",
       "2018-01-01 00:10:00+00:00              0.0                     1.0   \n",
       "2018-01-01 00:15:00+00:00              0.0                     1.0   \n",
       "2018-01-01 00:20:00+00:00              0.0                     1.0   \n",
       "\n",
       "                           hvac_zone_room_a  hvac_zone_theater_2  \\\n",
       "2018-01-01 00:00:00+00:00               0.0                  0.0   \n",
       "2018-01-01 00:05:00+00:00               0.0                  0.0   \n",
       "2018-01-01 00:10:00+00:00               0.0                  0.0   \n",
       "2018-01-01 00:15:00+00:00               0.0                  0.0   \n",
       "2018-01-01 00:20:00+00:00               0.0                  0.0   \n",
       "\n",
       "                           hvac_zone_back_hallway  hvac_zone_room_d  \\\n",
       "2018-01-01 00:00:00+00:00                     0.0               0.0   \n",
       "2018-01-01 00:05:00+00:00                     0.0               0.0   \n",
       "2018-01-01 00:10:00+00:00                     0.0               0.0   \n",
       "2018-01-01 00:15:00+00:00                     0.0               0.0   \n",
       "2018-01-01 00:20:00+00:00                     1.0               0.0   \n",
       "\n",
       "                           hvac_zone_pegasus_hall  hvac_zone_theater_1  \n",
       "2018-01-01 00:00:00+00:00                     0.0                  0.0  \n",
       "2018-01-01 00:05:00+00:00                     0.0                  0.0  \n",
       "2018-01-01 00:10:00+00:00                     0.0                  0.0  \n",
       "2018-01-01 00:15:00+00:00                     0.0                  0.0  \n",
       "2018-01-01 00:20:00+00:00                     0.0                  0.0  "
      ]
     },
     "execution_count": 10,
     "metadata": {},
     "output_type": "execute_result"
    }
   ],
   "source": [
    "df_raw_hvac_states = pd.read_csv(data_folder + '/hvac_states_' + site + '.csv', index_col=[0], parse_dates=True)\n",
    "df_raw_hvac_states.head()"
   ]
  },
  {
   "cell_type": "code",
   "execution_count": 11,
   "metadata": {},
   "outputs": [],
   "source": [
    "def func(row):\n",
    "    \"\"\" Possible situations: (0,0,0), (1,0,1), (0,1,2) --> 0, 1, 2\n",
    "    \n",
    "    If all are same --> first element\n",
    "    If there is a majority among the 3 --> majority\n",
    "    If all are unique --> last element\n",
    "    \n",
    "    \"\"\"\n",
    "\n",
    "    count = len(set(list(row.values)))\n",
    "    if count == 1:\n",
    "        return row.values[0]\n",
    "    elif count == 2:\n",
    "        max(set(list(row.values)), key=list(row.values).count)\n",
    "    else:\n",
    "        return row.values[-1]\n",
    "    \n",
    "resample_df_hvac = df_raw_hvac_states.resample('15T').apply(func)"
   ]
  },
  {
   "cell_type": "markdown",
   "metadata": {},
   "source": [
    "### TODO: Check if 'forward fill' is correct by determining the number of consecutive NaN's in all columns"
   ]
  },
  {
   "cell_type": "code",
   "execution_count": 12,
   "metadata": {
    "scrolled": true
   },
   "outputs": [
    {
     "data": {
      "text/plain": [
       "hvac_zone_lobby           False\n",
       "hvac_zone_main_hallway    False\n",
       "hvac_zone_room_a          False\n",
       "hvac_zone_theater_2       False\n",
       "hvac_zone_back_hallway    False\n",
       "hvac_zone_room_d          False\n",
       "hvac_zone_pegasus_hall    False\n",
       "hvac_zone_theater_1       False\n",
       "dtype: bool"
      ]
     },
     "execution_count": 12,
     "metadata": {},
     "output_type": "execute_result"
    }
   ],
   "source": [
    "resample_df_hvac = resample_df_hvac.fillna(method='ffill')\n",
    "resample_df_hvac.isna().any()"
   ]
  },
  {
   "cell_type": "markdown",
   "metadata": {},
   "source": [
    "## Concatenate data"
   ]
  },
  {
   "cell_type": "code",
   "execution_count": 13,
   "metadata": {
    "scrolled": false
   },
   "outputs": [
    {
     "data": {
      "text/html": [
       "<div>\n",
       "<style scoped>\n",
       "    .dataframe tbody tr th:only-of-type {\n",
       "        vertical-align: middle;\n",
       "    }\n",
       "\n",
       "    .dataframe tbody tr th {\n",
       "        vertical-align: top;\n",
       "    }\n",
       "\n",
       "    .dataframe thead th {\n",
       "        text-align: right;\n",
       "    }\n",
       "</style>\n",
       "<table border=\"1\" class=\"dataframe\">\n",
       "  <thead>\n",
       "    <tr style=\"text-align: right;\">\n",
       "      <th></th>\n",
       "      <th>power</th>\n",
       "      <th>hvac_zone_lobby</th>\n",
       "      <th>hvac_zone_main_hallway</th>\n",
       "      <th>hvac_zone_room_a</th>\n",
       "      <th>hvac_zone_theater_2</th>\n",
       "      <th>hvac_zone_back_hallway</th>\n",
       "      <th>hvac_zone_room_d</th>\n",
       "      <th>hvac_zone_pegasus_hall</th>\n",
       "      <th>hvac_zone_theater_1</th>\n",
       "    </tr>\n",
       "  </thead>\n",
       "  <tbody>\n",
       "    <tr>\n",
       "      <th>2018-01-01 00:00:00+00:00</th>\n",
       "      <td>0.016522</td>\n",
       "      <td>0.0</td>\n",
       "      <td>1.0</td>\n",
       "      <td>0.0</td>\n",
       "      <td>0.0</td>\n",
       "      <td>0.0</td>\n",
       "      <td>0.0</td>\n",
       "      <td>0.0</td>\n",
       "      <td>0.0</td>\n",
       "    </tr>\n",
       "    <tr>\n",
       "      <th>2018-01-01 00:15:00+00:00</th>\n",
       "      <td>0.026825</td>\n",
       "      <td>0.0</td>\n",
       "      <td>1.0</td>\n",
       "      <td>0.0</td>\n",
       "      <td>0.0</td>\n",
       "      <td>0.0</td>\n",
       "      <td>0.0</td>\n",
       "      <td>0.0</td>\n",
       "      <td>0.0</td>\n",
       "    </tr>\n",
       "    <tr>\n",
       "      <th>2018-01-01 00:30:00+00:00</th>\n",
       "      <td>0.018907</td>\n",
       "      <td>0.0</td>\n",
       "      <td>1.0</td>\n",
       "      <td>0.0</td>\n",
       "      <td>0.0</td>\n",
       "      <td>0.0</td>\n",
       "      <td>0.0</td>\n",
       "      <td>0.0</td>\n",
       "      <td>0.0</td>\n",
       "    </tr>\n",
       "    <tr>\n",
       "      <th>2018-01-01 00:45:00+00:00</th>\n",
       "      <td>0.031357</td>\n",
       "      <td>0.0</td>\n",
       "      <td>1.0</td>\n",
       "      <td>0.0</td>\n",
       "      <td>0.0</td>\n",
       "      <td>0.0</td>\n",
       "      <td>0.0</td>\n",
       "      <td>0.0</td>\n",
       "      <td>0.0</td>\n",
       "    </tr>\n",
       "    <tr>\n",
       "      <th>2018-01-01 01:00:00+00:00</th>\n",
       "      <td>0.022752</td>\n",
       "      <td>0.0</td>\n",
       "      <td>1.0</td>\n",
       "      <td>0.0</td>\n",
       "      <td>0.0</td>\n",
       "      <td>0.0</td>\n",
       "      <td>0.0</td>\n",
       "      <td>0.0</td>\n",
       "      <td>0.0</td>\n",
       "    </tr>\n",
       "  </tbody>\n",
       "</table>\n",
       "</div>"
      ],
      "text/plain": [
       "                              power  hvac_zone_lobby  hvac_zone_main_hallway  \\\n",
       "2018-01-01 00:00:00+00:00  0.016522              0.0                     1.0   \n",
       "2018-01-01 00:15:00+00:00  0.026825              0.0                     1.0   \n",
       "2018-01-01 00:30:00+00:00  0.018907              0.0                     1.0   \n",
       "2018-01-01 00:45:00+00:00  0.031357              0.0                     1.0   \n",
       "2018-01-01 01:00:00+00:00  0.022752              0.0                     1.0   \n",
       "\n",
       "                           hvac_zone_room_a  hvac_zone_theater_2  \\\n",
       "2018-01-01 00:00:00+00:00               0.0                  0.0   \n",
       "2018-01-01 00:15:00+00:00               0.0                  0.0   \n",
       "2018-01-01 00:30:00+00:00               0.0                  0.0   \n",
       "2018-01-01 00:45:00+00:00               0.0                  0.0   \n",
       "2018-01-01 01:00:00+00:00               0.0                  0.0   \n",
       "\n",
       "                           hvac_zone_back_hallway  hvac_zone_room_d  \\\n",
       "2018-01-01 00:00:00+00:00                     0.0               0.0   \n",
       "2018-01-01 00:15:00+00:00                     0.0               0.0   \n",
       "2018-01-01 00:30:00+00:00                     0.0               0.0   \n",
       "2018-01-01 00:45:00+00:00                     0.0               0.0   \n",
       "2018-01-01 01:00:00+00:00                     0.0               0.0   \n",
       "\n",
       "                           hvac_zone_pegasus_hall  hvac_zone_theater_1  \n",
       "2018-01-01 00:00:00+00:00                     0.0                  0.0  \n",
       "2018-01-01 00:15:00+00:00                     0.0                  0.0  \n",
       "2018-01-01 00:30:00+00:00                     0.0                  0.0  \n",
       "2018-01-01 00:45:00+00:00                     0.0                  0.0  \n",
       "2018-01-01 01:00:00+00:00                     0.0                  0.0  "
      ]
     },
     "execution_count": 13,
     "metadata": {},
     "output_type": "execute_result"
    }
   ],
   "source": [
    "df = pd.concat([df_normalized, resample_df_hvac], axis=1)\n",
    "df.head()"
   ]
  },
  {
   "cell_type": "code",
   "execution_count": 14,
   "metadata": {},
   "outputs": [
    {
     "name": "stdout",
     "output_type": "stream",
     "text": [
      "missing data for power:  7.6396520146520155 %\n"
     ]
    }
   ],
   "source": [
    "missing = df['power'].isnull().sum()\n",
    "total = df['power'].shape[0]\n",
    "print('missing data for power: ', (missing/total)*100, '%')"
   ]
  },
  {
   "cell_type": "code",
   "execution_count": 15,
   "metadata": {},
   "outputs": [],
   "source": [
    "df.dropna(inplace=True)"
   ]
  },
  {
   "cell_type": "markdown",
   "metadata": {},
   "source": [
    "## Box plot"
   ]
  },
  {
   "cell_type": "code",
   "execution_count": 16,
   "metadata": {},
   "outputs": [
    {
     "data": {
      "text/plain": [
       "<matplotlib.axes._subplots.AxesSubplot at 0x1c50681518>"
      ]
     },
     "execution_count": 16,
     "metadata": {},
     "output_type": "execute_result"
    },
    {
     "data": {
      "image/png": "[encoded data removed]",
      "text/plain": [
       "<Figure size 432x288 with 1 Axes>"
      ]
     },
     "metadata": {
      "needs_background": "light"
     },
     "output_type": "display_data"
    }
   ],
   "source": [
    "df_box_plot = pd.DataFrame(df['power'])\n",
    "df_box_plot['quarter'] = df_box_plot.index.quarter\n",
    "df_box_plot.boxplot(column='power', by='quarter')"
   ]
  },
  {
   "cell_type": "markdown",
   "metadata": {},
   "source": [
    "## Histogram"
   ]
  },
  {
   "cell_type": "code",
   "execution_count": 17,
   "metadata": {},
   "outputs": [
    {
     "data": {
      "text/plain": [
       "<matplotlib.axes._subplots.AxesSubplot at 0x1c6f4eb2b0>"
      ]
     },
     "execution_count": 17,
     "metadata": {},
     "output_type": "execute_result"
    },
    {
     "data": {
      "image/png": "[encoded data removed]",
      "text/plain": [
       "<Figure size 432x288 with 1 Axes>"
      ]
     },
     "metadata": {
      "needs_background": "light"
     },
     "output_type": "display_data"
    }
   ],
   "source": [
    "df['power'].hist()"
   ]
  },
  {
   "cell_type": "markdown",
   "metadata": {},
   "source": [
    "## ACF and PACF"
   ]
  },
  {
   "cell_type": "code",
   "execution_count": 18,
   "metadata": {},
   "outputs": [
    {
     "data": {
      "image/png": "[encoded data removed]",
      "text/plain": [
       "<Figure size 432x288 with 1 Axes>"
      ]
     },
     "metadata": {
      "needs_background": "light"
     },
     "output_type": "display_data"
    },
    {
     "data": {
      "image/png": "[encoded data removed]",
      "text/plain": [
       "<Figure size 432x288 with 1 Axes>"
      ]
     },
     "metadata": {
      "needs_background": "light"
     },
     "output_type": "display_data"
    }
   ],
   "source": [
    "fig1 = plot_acf(df_processed['power'], lags=50)\n",
    "fig2 = plot_pacf(df_processed['power'], lags=50)"
   ]
  },
  {
   "cell_type": "markdown",
   "metadata": {},
   "source": [
    "# Prepare data"
   ]
  },
  {
   "cell_type": "markdown",
   "metadata": {},
   "source": [
    "## Split into training & testing data"
   ]
  },
  {
   "cell_type": "code",
   "execution_count": 19,
   "metadata": {},
   "outputs": [],
   "source": [
    "X_train = df[(df.index < '2018-12-31')]\n",
    "y_train = df.loc[(df.index < '2018-12-31'), 'power']\n",
    "\n",
    "X_test = df[(df.index >= '2019-01-01')]\n",
    "y_test = df.loc[(df.index >= '2019-01-01'), 'power']"
   ]
  },
  {
   "cell_type": "markdown",
   "metadata": {},
   "source": [
    "## Prepare data for LSTM"
   ]
  },
  {
   "cell_type": "code",
   "execution_count": 20,
   "metadata": {},
   "outputs": [
    {
     "name": "stdout",
     "output_type": "stream",
     "text": [
      "(31752, 24, 9)\n",
      "(31752, 16)\n",
      "(8434, 24, 9)\n",
      "(8434, 16)\n"
     ]
    }
   ],
   "source": [
    "# Number of columns in X_train\n",
    "NUM_FEATURES    = len(X_train.columns)\n",
    "\n",
    "# ACF plot shows significant autocorrelation till lag=24\n",
    "NUM_TIMESTEPS   = 24\n",
    "\n",
    "# 4 hour predictions = Sixteen 15min predictions \n",
    "NUM_PREDICTIONS = 16\n",
    "\n",
    "\n",
    "train_x, train_y = [], []\n",
    "for i in range(NUM_TIMESTEPS, len(X_train)-NUM_PREDICTIONS):\n",
    "    train_x.append(X_train.values[i-NUM_TIMESTEPS:i])\n",
    "    train_y.append(y_train.values[i:i+NUM_PREDICTIONS])\n",
    "    \n",
    "train_x, train_y = np.array(train_x), np.array(train_y)\n",
    "\n",
    "print(train_x.shape)\n",
    "print(train_y.shape)\n",
    "\n",
    "\n",
    "test_x, test_y = [], []\n",
    "for i in range(NUM_TIMESTEPS, len(X_test)-NUM_PREDICTIONS):\n",
    "    test_x.append(X_test.values[i-NUM_TIMESTEPS:i])\n",
    "    test_y.append(y_test.values[i:i+NUM_PREDICTIONS])\n",
    "    \n",
    "test_x, test_y = np.array(test_x), np.array(test_y)\n",
    "\n",
    "print(test_x.shape)\n",
    "print(test_y.shape)"
   ]
  },
  {
   "cell_type": "markdown",
   "metadata": {},
   "source": [
    "# LSTM"
   ]
  },
  {
   "cell_type": "code",
   "execution_count": 21,
   "metadata": {},
   "outputs": [
    {
     "name": "stdout",
     "output_type": "stream",
     "text": [
      "WARNING:tensorflow:From /anaconda3/lib/python3.7/site-packages/tensorflow/python/framework/op_def_library.py:263: colocate_with (from tensorflow.python.framework.ops) is deprecated and will be removed in a future version.\n",
      "Instructions for updating:\n",
      "Colocations handled automatically by placer.\n",
      "WARNING:tensorflow:From /anaconda3/lib/python3.7/site-packages/keras/backend/tensorflow_backend.py:3445: calling dropout (from tensorflow.python.ops.nn_ops) with keep_prob is deprecated and will be removed in a future version.\n",
      "Instructions for updating:\n",
      "Please use `rate` instead of `keep_prob`. Rate should be set to `rate = 1 - keep_prob`.\n",
      "_________________________________________________________________\n",
      "Layer (type)                 Output Shape              Param #   \n",
      "=================================================================\n",
      "lstm_1 (LSTM)                (None, 24, 128)           70656     \n",
      "_________________________________________________________________\n",
      "dropout_1 (Dropout)          (None, 24, 128)           0         \n",
      "_________________________________________________________________\n",
      "lstm_2 (LSTM)                (None, 24, 128)           131584    \n",
      "_________________________________________________________________\n",
      "dropout_2 (Dropout)          (None, 24, 128)           0         \n",
      "_________________________________________________________________\n",
      "lstm_3 (LSTM)                (None, 128)               131584    \n",
      "_________________________________________________________________\n",
      "dropout_3 (Dropout)          (None, 128)               0         \n",
      "_________________________________________________________________\n",
      "dense_1 (Dense)              (None, 16)                2064      \n",
      "=================================================================\n",
      "Total params: 335,888\n",
      "Trainable params: 335,888\n",
      "Non-trainable params: 0\n",
      "_________________________________________________________________\n"
     ]
    }
   ],
   "source": [
    "model = Sequential([\n",
    "    \n",
    "    LSTM(units=128, input_shape=(NUM_TIMESTEPS, NUM_FEATURES), return_sequences=True),\n",
    "    Dropout(0.2),\n",
    "    \n",
    "    LSTM(units=128, return_sequences=True),\n",
    "    Dropout(0.2),\n",
    "    \n",
    "    LSTM(units=128, activation='softmax', return_sequences=False),\n",
    "    Dropout(0.2),\n",
    "    \n",
    "    Dense(NUM_PREDICTIONS)\n",
    "])\n",
    "\n",
    "model.compile(optimizer='adam', loss='mean_squared_error', metrics=['accuracy'])\n",
    "model.summary()"
   ]
  },
  {
   "cell_type": "code",
   "execution_count": 22,
   "metadata": {},
   "outputs": [
    {
     "name": "stdout",
     "output_type": "stream",
     "text": [
      "WARNING:tensorflow:From /anaconda3/lib/python3.7/site-packages/tensorflow/python/ops/math_ops.py:3066: to_int32 (from tensorflow.python.ops.math_ops) is deprecated and will be removed in a future version.\n",
      "Instructions for updating:\n",
      "Use tf.cast instead.\n",
      "Train on 31752 samples, validate on 8434 samples\n",
      "Epoch 1/100\n",
      "31752/31752 [==============================] - 25s 793us/step - loss: 0.0420 - acc: 0.0689 - val_loss: 0.0274 - val_acc: 0.0513\n",
      "Epoch 2/100\n",
      "31752/31752 [==============================] - 25s 772us/step - loss: 0.0386 - acc: 0.0600 - val_loss: 0.0267 - val_acc: 0.1195\n",
      "Epoch 3/100\n",
      "31752/31752 [==============================] - 24s 765us/step - loss: 0.0379 - acc: 0.0619 - val_loss: 0.0245 - val_acc: 0.0593\n",
      "Epoch 4/100\n",
      "31752/31752 [==============================] - 24s 767us/step - loss: 0.0368 - acc: 0.0622 - val_loss: 0.0245 - val_acc: 0.0494\n",
      "Epoch 5/100\n",
      "31752/31752 [==============================] - 31s 969us/step - loss: 0.0355 - acc: 0.0794 - val_loss: 0.0233 - val_acc: 0.0657\n",
      "Epoch 6/100\n",
      "31752/31752 [==============================] - 31s 982us/step - loss: 0.0345 - acc: 0.0879 - val_loss: 0.0253 - val_acc: 0.1099\n",
      "Epoch 7/100\n",
      "31752/31752 [==============================] - 28s 897us/step - loss: 0.0355 - acc: 0.0906 - val_loss: 0.0233 - val_acc: 0.1157\n",
      "Epoch 8/100\n",
      "31752/31752 [==============================] - 26s 805us/step - loss: 0.0327 - acc: 0.1029 - val_loss: 0.0237 - val_acc: 0.1206\n",
      "Epoch 9/100\n",
      "31752/31752 [==============================] - 25s 788us/step - loss: 0.0308 - acc: 0.1166 - val_loss: 0.0235 - val_acc: 0.1352\n",
      "Epoch 10/100\n",
      "31752/31752 [==============================] - 26s 816us/step - loss: 0.0283 - acc: 0.1240 - val_loss: 0.0217 - val_acc: 0.1591\n",
      "Epoch 11/100\n",
      "31752/31752 [==============================] - 27s 837us/step - loss: 0.0257 - acc: 0.1410 - val_loss: 0.0174 - val_acc: 0.1901\n",
      "Epoch 12/100\n",
      "31752/31752 [==============================] - 26s 819us/step - loss: 0.0236 - acc: 0.1434 - val_loss: 0.0161 - val_acc: 0.1728\n",
      "Epoch 13/100\n",
      "31752/31752 [==============================] - 28s 881us/step - loss: 0.0224 - acc: 0.1472 - val_loss: 0.0151 - val_acc: 0.1655\n",
      "Epoch 14/100\n",
      "31752/31752 [==============================] - 27s 860us/step - loss: 0.0216 - acc: 0.1448 - val_loss: 0.0138 - val_acc: 0.1672\n",
      "Epoch 15/100\n",
      "31752/31752 [==============================] - 29s 908us/step - loss: 0.0209 - acc: 0.1451 - val_loss: 0.0135 - val_acc: 0.1618\n",
      "Epoch 16/100\n",
      "31752/31752 [==============================] - 28s 887us/step - loss: 0.0203 - acc: 0.1486 - val_loss: 0.0126 - val_acc: 0.1815\n",
      "Epoch 17/100\n",
      "31752/31752 [==============================] - 27s 848us/step - loss: 0.0196 - acc: 0.1522 - val_loss: 0.0117 - val_acc: 0.1857\n",
      "Epoch 18/100\n",
      "31752/31752 [==============================] - 29s 922us/step - loss: 0.0197 - acc: 0.1535 - val_loss: 0.0111 - val_acc: 0.1840\n",
      "Epoch 19/100\n",
      "31752/31752 [==============================] - 29s 902us/step - loss: 0.0190 - acc: 0.1571 - val_loss: 0.0109 - val_acc: 0.1872\n",
      "Epoch 20/100\n",
      "31752/31752 [==============================] - 29s 922us/step - loss: 0.0185 - acc: 0.1617 - val_loss: 0.0104 - val_acc: 0.1898\n",
      "Epoch 21/100\n",
      "31752/31752 [==============================] - 28s 883us/step - loss: 0.0181 - acc: 0.1624 - val_loss: 0.0106 - val_acc: 0.1895\n",
      "Epoch 22/100\n",
      "31752/31752 [==============================] - 30s 930us/step - loss: 0.0179 - acc: 0.1653 - val_loss: 0.0104 - val_acc: 0.1940\n",
      "Epoch 23/100\n",
      "31752/31752 [==============================] - 31s 967us/step - loss: 0.0177 - acc: 0.1649 - val_loss: 0.0103 - val_acc: 0.1886\n",
      "Epoch 24/100\n",
      "31752/31752 [==============================] - 28s 875us/step - loss: 0.0175 - acc: 0.1636 - val_loss: 0.0105 - val_acc: 0.1880\n",
      "Epoch 25/100\n",
      "31752/31752 [==============================] - 28s 893us/step - loss: 0.0172 - acc: 0.1659 - val_loss: 0.0109 - val_acc: 0.1896\n",
      "Epoch 26/100\n",
      "31752/31752 [==============================] - 28s 877us/step - loss: 0.0172 - acc: 0.1659 - val_loss: 0.0105 - val_acc: 0.1903\n",
      "Epoch 27/100\n",
      "31752/31752 [==============================] - 29s 912us/step - loss: 0.0169 - acc: 0.1631 - val_loss: 0.0109 - val_acc: 0.1909\n",
      "Epoch 28/100\n",
      "31752/31752 [==============================] - 29s 904us/step - loss: 0.0168 - acc: 0.1655 - val_loss: 0.0105 - val_acc: 0.1885\n",
      "Epoch 29/100\n",
      "31752/31752 [==============================] - 29s 898us/step - loss: 0.0164 - acc: 0.1647 - val_loss: 0.0103 - val_acc: 0.1895\n",
      "Epoch 30/100\n",
      "31752/31752 [==============================] - 28s 875us/step - loss: 0.0163 - acc: 0.1652 - val_loss: 0.0106 - val_acc: 0.1875\n",
      "Epoch 31/100\n",
      "31752/31752 [==============================] - 29s 909us/step - loss: 0.0161 - acc: 0.1675 - val_loss: 0.0101 - val_acc: 0.1888\n",
      "Epoch 32/100\n",
      "31752/31752 [==============================] - 29s 900us/step - loss: 0.0159 - acc: 0.1665 - val_loss: 0.0104 - val_acc: 0.1850\n",
      "Epoch 33/100\n",
      "31752/31752 [==============================] - 28s 885us/step - loss: 0.0160 - acc: 0.1660 - val_loss: 0.0106 - val_acc: 0.1854\n",
      "Epoch 34/100\n",
      "31752/31752 [==============================] - 28s 892us/step - loss: 0.0156 - acc: 0.1640 - val_loss: 0.0105 - val_acc: 0.1864\n",
      "Epoch 35/100\n",
      "31752/31752 [==============================] - 28s 896us/step - loss: 0.0155 - acc: 0.1651 - val_loss: 0.0107 - val_acc: 0.1862\n",
      "Epoch 36/100\n",
      "31752/31752 [==============================] - 28s 896us/step - loss: 0.0155 - acc: 0.1661 - val_loss: 0.0107 - val_acc: 0.1864\n",
      "Epoch 37/100\n",
      "31752/31752 [==============================] - 29s 917us/step - loss: 0.0153 - acc: 0.1657 - val_loss: 0.0108 - val_acc: 0.1856\n",
      "Epoch 38/100\n",
      "31752/31752 [==============================] - 27s 866us/step - loss: 0.0150 - acc: 0.1652 - val_loss: 0.0105 - val_acc: 0.1863\n",
      "Epoch 39/100\n",
      "31752/31752 [==============================] - 29s 914us/step - loss: 0.0149 - acc: 0.1661 - val_loss: 0.0103 - val_acc: 0.1838\n",
      "Epoch 40/100\n",
      "31752/31752 [==============================] - 29s 918us/step - loss: 0.0149 - acc: 0.1660 - val_loss: 0.0104 - val_acc: 0.1812\n",
      "Epoch 41/100\n",
      "31752/31752 [==============================] - 28s 880us/step - loss: 0.0148 - acc: 0.1654 - val_loss: 0.0107 - val_acc: 0.1854\n",
      "Epoch 42/100\n",
      "31752/31752 [==============================] - 28s 887us/step - loss: 0.0145 - acc: 0.1662 - val_loss: 0.0104 - val_acc: 0.1840\n",
      "Epoch 43/100\n",
      "31752/31752 [==============================] - 29s 924us/step - loss: 0.0144 - acc: 0.1674 - val_loss: 0.0106 - val_acc: 0.1835\n",
      "Epoch 44/100\n",
      "31752/31752 [==============================] - 28s 894us/step - loss: 0.0141 - acc: 0.1666 - val_loss: 0.0107 - val_acc: 0.1854\n",
      "Epoch 45/100\n",
      "31752/31752 [==============================] - 29s 915us/step - loss: 0.0140 - acc: 0.1680 - val_loss: 0.0107 - val_acc: 0.1871\n",
      "Epoch 46/100\n",
      "31752/31752 [==============================] - 27s 861us/step - loss: 0.0138 - acc: 0.1678 - val_loss: 0.0109 - val_acc: 0.1877\n",
      "Epoch 47/100\n",
      "31752/31752 [==============================] - 29s 914us/step - loss: 0.0139 - acc: 0.1677 - val_loss: 0.0105 - val_acc: 0.1866\n",
      "Epoch 48/100\n",
      "31752/31752 [==============================] - 33s 1ms/step - loss: 0.0136 - acc: 0.1680 - val_loss: 0.0106 - val_acc: 0.1865\n",
      "Epoch 49/100\n",
      "31752/31752 [==============================] - 28s 875us/step - loss: 0.0135 - acc: 0.1675 - val_loss: 0.0105 - val_acc: 0.1870\n",
      "Epoch 50/100\n",
      "31752/31752 [==============================] - 29s 929us/step - loss: 0.0132 - acc: 0.1682 - val_loss: 0.0111 - val_acc: 0.1888\n",
      "Epoch 51/100\n",
      "31752/31752 [==============================] - 29s 926us/step - loss: 0.0133 - acc: 0.1687 - val_loss: 0.0115 - val_acc: 0.1908\n",
      "Epoch 52/100\n",
      "31752/31752 [==============================] - 28s 888us/step - loss: 0.0136 - acc: 0.1680 - val_loss: 0.0112 - val_acc: 0.1866\n",
      "Epoch 53/100\n",
      "31752/31752 [==============================] - 29s 902us/step - loss: 0.0133 - acc: 0.1674 - val_loss: 0.0114 - val_acc: 0.1885\n",
      "Epoch 54/100\n",
      "31752/31752 [==============================] - 28s 888us/step - loss: 0.0131 - acc: 0.1676 - val_loss: 0.0115 - val_acc: 0.1884\n",
      "Epoch 55/100\n",
      "31752/31752 [==============================] - 28s 891us/step - loss: 0.0133 - acc: 0.1684 - val_loss: 0.0114 - val_acc: 0.1853\n",
      "Epoch 56/100\n",
      "31752/31752 [==============================] - 29s 927us/step - loss: 0.0128 - acc: 0.1703 - val_loss: 0.0117 - val_acc: 0.1886\n",
      "Epoch 57/100\n"
     ]
    },
    {
     "name": "stdout",
     "output_type": "stream",
     "text": [
      "31752/31752 [==============================] - 28s 891us/step - loss: 0.0127 - acc: 0.1685 - val_loss: 0.0117 - val_acc: 0.1896\n",
      "Epoch 58/100\n",
      "31752/31752 [==============================] - 28s 879us/step - loss: 0.0125 - acc: 0.1711 - val_loss: 0.0114 - val_acc: 0.1885\n",
      "Epoch 59/100\n",
      "31752/31752 [==============================] - 29s 909us/step - loss: 0.0124 - acc: 0.1697 - val_loss: 0.0119 - val_acc: 0.1875\n",
      "Epoch 60/100\n",
      "31752/31752 [==============================] - 27s 865us/step - loss: 0.0123 - acc: 0.1713 - val_loss: 0.0118 - val_acc: 0.1939\n",
      "Epoch 61/100\n",
      "31752/31752 [==============================] - 29s 917us/step - loss: 0.0124 - acc: 0.1723 - val_loss: 0.0117 - val_acc: 0.1876\n",
      "Epoch 62/100\n",
      "31752/31752 [==============================] - 28s 873us/step - loss: 0.0123 - acc: 0.1709 - val_loss: 0.0120 - val_acc: 0.1930\n",
      "Epoch 63/100\n",
      "31752/31752 [==============================] - 28s 891us/step - loss: 0.0122 - acc: 0.1711 - val_loss: 0.0122 - val_acc: 0.1929\n",
      "Epoch 64/100\n",
      "31752/31752 [==============================] - 28s 897us/step - loss: 0.0123 - acc: 0.1705 - val_loss: 0.0116 - val_acc: 0.1892\n",
      "Epoch 65/100\n",
      "31752/31752 [==============================] - 28s 895us/step - loss: 0.0122 - acc: 0.1706 - val_loss: 0.0117 - val_acc: 0.1889\n",
      "Epoch 66/100\n",
      "31752/31752 [==============================] - 29s 909us/step - loss: 0.0120 - acc: 0.1698 - val_loss: 0.0119 - val_acc: 0.1924\n",
      "Epoch 67/100\n",
      "31752/31752 [==============================] - 28s 876us/step - loss: 0.0121 - acc: 0.1711 - val_loss: 0.0117 - val_acc: 0.1923\n",
      "Epoch 68/100\n",
      "31752/31752 [==============================] - 28s 874us/step - loss: 0.0121 - acc: 0.1713 - val_loss: 0.0114 - val_acc: 0.1936\n",
      "Epoch 69/100\n",
      "31752/31752 [==============================] - 29s 925us/step - loss: 0.0118 - acc: 0.1709 - val_loss: 0.0120 - val_acc: 0.1787\n",
      "Epoch 70/100\n",
      "31752/31752 [==============================] - 28s 896us/step - loss: 0.0116 - acc: 0.1732 - val_loss: 0.0118 - val_acc: 0.1922\n",
      "Epoch 71/100\n",
      "31752/31752 [==============================] - 28s 876us/step - loss: 0.0114 - acc: 0.1717 - val_loss: 0.0113 - val_acc: 0.1952\n",
      "Epoch 72/100\n",
      "31752/31752 [==============================] - 28s 881us/step - loss: 0.0115 - acc: 0.1723 - val_loss: 0.0117 - val_acc: 0.1886\n",
      "Epoch 73/100\n",
      "31752/31752 [==============================] - 28s 897us/step - loss: 0.0113 - acc: 0.1716 - val_loss: 0.0115 - val_acc: 0.1897\n",
      "Epoch 74/100\n",
      "31752/31752 [==============================] - 30s 956us/step - loss: 0.0112 - acc: 0.1714 - val_loss: 0.0115 - val_acc: 0.1908\n",
      "Epoch 75/100\n",
      "31752/31752 [==============================] - 28s 895us/step - loss: 0.0113 - acc: 0.1735 - val_loss: 0.0116 - val_acc: 0.1923\n",
      "Epoch 76/100\n",
      "31752/31752 [==============================] - 28s 881us/step - loss: 0.0112 - acc: 0.1736 - val_loss: 0.0114 - val_acc: 0.1879\n",
      "Epoch 77/100\n",
      "31752/31752 [==============================] - 28s 885us/step - loss: 0.0115 - acc: 0.1719 - val_loss: 0.0117 - val_acc: 0.1909\n",
      "Epoch 78/100\n",
      "31752/31752 [==============================] - 28s 897us/step - loss: 0.0115 - acc: 0.1691 - val_loss: 0.0120 - val_acc: 0.1905\n",
      "Epoch 79/100\n",
      "31752/31752 [==============================] - 29s 926us/step - loss: 0.0114 - acc: 0.1712 - val_loss: 0.0117 - val_acc: 0.1954\n",
      "Epoch 80/100\n",
      "31752/31752 [==============================] - 29s 913us/step - loss: 0.0113 - acc: 0.1711 - val_loss: 0.0117 - val_acc: 0.1789\n",
      "Epoch 81/100\n",
      "31752/31752 [==============================] - 28s 881us/step - loss: 0.0110 - acc: 0.1726 - val_loss: 0.0118 - val_acc: 0.1877\n",
      "Epoch 82/100\n",
      "31752/31752 [==============================] - 29s 905us/step - loss: 0.0108 - acc: 0.1720 - val_loss: 0.0118 - val_acc: 0.1928\n",
      "Epoch 83/100\n",
      "31752/31752 [==============================] - 29s 903us/step - loss: 0.0110 - acc: 0.1730 - val_loss: 0.0119 - val_acc: 0.1934\n",
      "Epoch 84/100\n",
      "31752/31752 [==============================] - 28s 893us/step - loss: 0.0108 - acc: 0.1719 - val_loss: 0.0125 - val_acc: 0.1918\n",
      "Epoch 85/100\n",
      "31752/31752 [==============================] - 29s 920us/step - loss: 0.0107 - acc: 0.1719 - val_loss: 0.0119 - val_acc: 0.1897\n",
      "Epoch 86/100\n",
      "31752/31752 [==============================] - 29s 900us/step - loss: 0.0106 - acc: 0.1735 - val_loss: 0.0122 - val_acc: 0.1917\n",
      "Epoch 87/100\n",
      "31752/31752 [==============================] - 29s 919us/step - loss: 0.0106 - acc: 0.1733 - val_loss: 0.0116 - val_acc: 0.1889\n",
      "Epoch 88/100\n",
      "31752/31752 [==============================] - 28s 897us/step - loss: 0.0106 - acc: 0.1733 - val_loss: 0.0125 - val_acc: 0.1905\n",
      "Epoch 89/100\n",
      "31752/31752 [==============================] - 28s 896us/step - loss: 0.0104 - acc: 0.1722 - val_loss: 0.0119 - val_acc: 0.1935\n",
      "Epoch 90/100\n",
      "31752/31752 [==============================] - 30s 940us/step - loss: 0.0105 - acc: 0.1717 - val_loss: 0.0124 - val_acc: 0.1912\n",
      "Epoch 91/100\n",
      "31752/31752 [==============================] - 30s 941us/step - loss: 0.0107 - acc: 0.1709 - val_loss: 0.0122 - val_acc: 0.1929\n",
      "Epoch 92/100\n",
      "31752/31752 [==============================] - 28s 880us/step - loss: 0.0107 - acc: 0.1731 - val_loss: 0.0123 - val_acc: 0.1926\n",
      "Epoch 93/100\n",
      "31752/31752 [==============================] - 30s 950us/step - loss: 0.0106 - acc: 0.1711 - val_loss: 0.0126 - val_acc: 0.1853\n",
      "Epoch 94/100\n",
      "31752/31752 [==============================] - 28s 887us/step - loss: 0.0104 - acc: 0.1721 - val_loss: 0.0120 - val_acc: 0.1918\n",
      "Epoch 95/100\n",
      "31752/31752 [==============================] - 30s 950us/step - loss: 0.0104 - acc: 0.1730 - val_loss: 0.0127 - val_acc: 0.1945\n",
      "Epoch 96/100\n",
      "31752/31752 [==============================] - 29s 908us/step - loss: 0.0103 - acc: 0.1738 - val_loss: 0.0125 - val_acc: 0.1835\n",
      "Epoch 97/100\n",
      "31752/31752 [==============================] - 29s 899us/step - loss: 0.0103 - acc: 0.1736 - val_loss: 0.0121 - val_acc: 0.1915\n",
      "Epoch 98/100\n",
      "31752/31752 [==============================] - 29s 914us/step - loss: 0.0104 - acc: 0.1733 - val_loss: 0.0126 - val_acc: 0.1879\n",
      "Epoch 99/100\n",
      "31752/31752 [==============================] - 29s 917us/step - loss: 0.0104 - acc: 0.1736 - val_loss: 0.0128 - val_acc: 0.1943\n",
      "Epoch 100/100\n",
      "31752/31752 [==============================] - 29s 916us/step - loss: 0.0102 - acc: 0.1740 - val_loss: 0.0128 - val_acc: 0.1901\n"
     ]
    }
   ],
   "source": [
    "history = model.fit(train_x, train_y, epochs=100, batch_size=128, shuffle=False, validation_data=(test_x, test_y))"
   ]
  },
  {
   "cell_type": "markdown",
   "metadata": {},
   "source": [
    "# Results"
   ]
  },
  {
   "cell_type": "markdown",
   "metadata": {},
   "source": [
    "## Loss"
   ]
  },
  {
   "cell_type": "code",
   "execution_count": 23,
   "metadata": {},
   "outputs": [],
   "source": [
    "train_loss = history.history['loss']\n",
    "val_loss = history.history['val_loss']\n",
    "epochs = [x for x in range(len(train_loss))]\n",
    "\n",
    "df_train_loss = pd.DataFrame(train_loss, columns=['train_loss'], index=epochs)\n",
    "df_val_loss   = pd.DataFrame(val_loss, columns=['val_loss'], index=epochs)\n",
    "\n",
    "df_loss = pd.concat([df_train_loss, df_val_loss], axis=1)"
   ]
  },
  {
   "cell_type": "code",
   "execution_count": 24,
   "metadata": {
    "scrolled": true
   },
   "outputs": [
    {
     "data": {
      "text/plain": [
       "<matplotlib.axes._subplots.AxesSubplot at 0x1c4df36cf8>"
      ]
     },
     "execution_count": 24,
     "metadata": {},
     "output_type": "execute_result"
    },
    {
     "data": {
      "image/png": "[encoded data removed]",
      "text/plain": [
       "<Figure size 1296x360 with 1 Axes>"
      ]
     },
     "metadata": {
      "needs_background": "light"
     },
     "output_type": "display_data"
    }
   ],
   "source": [
    "df_loss.plot(figsize=(18,5))"
   ]
  },
  {
   "cell_type": "markdown",
   "metadata": {},
   "source": [
    "## Accuracy"
   ]
  },
  {
   "cell_type": "code",
   "execution_count": 25,
   "metadata": {},
   "outputs": [],
   "source": [
    "train_acc = history.history['acc']\n",
    "val_acc   = history.history['val_acc']\n",
    "epochs    = [x for x in range(len(train_acc))]\n",
    "\n",
    "df_train_acc = pd.DataFrame(train_acc, columns=['train_acc'], index=epochs)\n",
    "df_val_acc   = pd.DataFrame(val_acc, columns=['val_acc'], index=epochs)\n",
    "\n",
    "df_acc = pd.concat([df_train_acc, df_val_acc], axis=1)"
   ]
  },
  {
   "cell_type": "code",
   "execution_count": 26,
   "metadata": {},
   "outputs": [
    {
     "data": {
      "text/plain": [
       "<matplotlib.axes._subplots.AxesSubplot at 0x1c505a3320>"
      ]
     },
     "execution_count": 26,
     "metadata": {},
     "output_type": "execute_result"
    },
    {
     "data": {
      "image/png": "[encoded data removed]",
      "text/plain": [
       "<Figure size 1296x360 with 1 Axes>"
      ]
     },
     "metadata": {
      "needs_background": "light"
     },
     "output_type": "display_data"
    }
   ],
   "source": [
    "df_acc.plot(figsize=(18,5))"
   ]
  },
  {
   "cell_type": "markdown",
   "metadata": {},
   "source": [
    "# Predictions"
   ]
  },
  {
   "cell_type": "code",
   "execution_count": 27,
   "metadata": {},
   "outputs": [],
   "source": [
    "pred_y = model.predict(test_x)"
   ]
  },
  {
   "cell_type": "code",
   "execution_count": 28,
   "metadata": {},
   "outputs": [],
   "source": [
    "df_y_pred = pd.DataFrame(scaler.inverse_transform(pred_y),\n",
    "                         index=y_test[NUM_TIMESTEPS:-NUM_PREDICTIONS].index)\n",
    "\n",
    "df_y_true = pd.DataFrame(scaler.inverse_transform(test_y),\n",
    "                         index=y_test[NUM_TIMESTEPS:-NUM_PREDICTIONS].index)"
   ]
  },
  {
   "cell_type": "code",
   "execution_count": 29,
   "metadata": {},
   "outputs": [],
   "source": [
    "timestamp = pd.Timestamp('2019-01-01 06:00:00+00:00')\n",
    "\n",
    "predictions  = df_y_pred.loc[timestamp, :]\n",
    "ground_truth = df_y_true.loc[timestamp, :]\n",
    "\n",
    "df_plot = pd.concat([predictions, ground_truth], axis=1)\n",
    "df_plot.columns = ['pred', 'true']"
   ]
  },
  {
   "cell_type": "code",
   "execution_count": 30,
   "metadata": {},
   "outputs": [
    {
     "data": {
      "text/plain": [
       "<matplotlib.axes._subplots.AxesSubplot at 0x1c504925c0>"
      ]
     },
     "execution_count": 30,
     "metadata": {},
     "output_type": "execute_result"
    },
    {
     "data": {
      "image/png": "[encoded data removed]",
      "text/plain": [
       "<Figure size 1296x360 with 1 Axes>"
      ]
     },
     "metadata": {
      "needs_background": "light"
     },
     "output_type": "display_data"
    }
   ],
   "source": [
    "df_plot.plot(figsize=(18,5))"
   ]
  },
  {
   "cell_type": "code",
   "execution_count": null,
   "metadata": {},
   "outputs": [],
   "source": []
  }
 ],
 "metadata": {
  "kernelspec": {
   "display_name": "Python 3",
   "language": "python",
   "name": "python3"
  },
  "language_info": {
   "codemirror_mode": {
    "name": "ipython",
    "version": 3
   },
   "file_extension": ".py",
   "mimetype": "text/x-python",
   "name": "python",
   "nbconvert_exporter": "python",
   "pygments_lexer": "ipython3",
   "version": "3.7.3"
  }
 },
 "nbformat": 4,
 "nbformat_minor": 2
}
