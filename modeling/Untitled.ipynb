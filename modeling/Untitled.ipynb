{
 "cells": [
  {
   "cell_type": "code",
   "execution_count": 1,
   "metadata": {},
   "outputs": [],
   "source": [
    "import xbos_services_getter\n",
    "import datetime"
   ]
  },
  {
   "cell_type": "code",
   "execution_count": 2,
   "metadata": {},
   "outputs": [
    {
     "data": {
      "text/plain": [
       "<xbos_services_getter.lib.building_zone_names_pb2_grpc.BuildingZoneNamesStub at 0x10cd48ba8>"
      ]
     },
     "execution_count": 2,
     "metadata": {},
     "output_type": "execute_result"
    }
   ],
   "source": [
    "building_zone_names_stub = xbos_services_getter.get_building_zone_names_stub()\n",
    "building_zone_names_stub"
   ]
  },
  {
   "cell_type": "code",
   "execution_count": 3,
   "metadata": {},
   "outputs": [
    {
     "data": {
      "text/plain": [
       "['jesse-turner-center',\n",
       " 'ciee',\n",
       " 'north-berkeley-senior-center',\n",
       " 'avenal-animal-shelter',\n",
       " 'hayward-station-1',\n",
       " 'avenal-recreation-center',\n",
       " 'berkeley-corporate-yard',\n",
       " 'local-butcher-shop',\n",
       " 'south-berkeley-senior-center',\n",
       " 'hayward-station-8',\n",
       " 'word-of-faith-cc',\n",
       " 'avenal-veterans-hall',\n",
       " 'orinda-community-center',\n",
       " 'avenal-public-works-yard',\n",
       " 'avenal-movie-theatre',\n",
       " 'csu-dominguez-hills']"
      ]
     },
     "execution_count": 3,
     "metadata": {},
     "output_type": "execute_result"
    }
   ],
   "source": [
    "buildings = xbos_services_getter.get_buildings(building_zone_names_stub)\n",
    "buildings"
   ]
  },
  {
   "cell_type": "code",
   "execution_count": 4,
   "metadata": {},
   "outputs": [
    {
     "data": {
      "text/plain": [
       "['hvac_zone_centralzone',\n",
       " 'hvac_zone_eastzone',\n",
       " 'hvac_zone_northzone',\n",
       " 'hvac_zone_southzone']"
      ]
     },
     "execution_count": 4,
     "metadata": {},
     "output_type": "execute_result"
    }
   ],
   "source": [
    "zones = xbos_services_getter.get_zones(building_zone_names_stub, building='ciee')\n",
    "zones"
   ]
  },
  {
   "cell_type": "code",
   "execution_count": 5,
   "metadata": {},
   "outputs": [
    {
     "data": {
      "text/plain": [
       "{'jesse-turner-center': ['hvac_zone_resource_center',\n",
       "  'hvac_zone_class_132',\n",
       "  'hvac_zone_meeting_room_122',\n",
       "  'hvac_zone_multi_purpose_147',\n",
       "  'hvac_zone_fitness_room_138',\n",
       "  'hvac_zone_assembly_112',\n",
       "  'hvac_zone_basketball_court_2',\n",
       "  'hvac_zone_basketball_court_6',\n",
       "  'hvac_zone_basketball_court_5',\n",
       "  'hvac_zone_lobby',\n",
       "  'hvac_zone_basketball_court_3',\n",
       "  'hvac_zone_control_desk',\n",
       "  'hvac_zone_foyer_gallery',\n",
       "  'hvac_zone_assembly_113',\n",
       "  'hvac_zone_class_131',\n",
       "  'hvac_zone_front_entrance',\n",
       "  'hvac_zone_office_room_148',\n",
       "  'hvac_zone_basketball_court_4',\n",
       "  'hvac_zone_dance_room_109',\n",
       "  'hvac_zone_back_stage',\n",
       "  'hvac_zone_basketball_court_1',\n",
       "  'hvac_zone_kitchen',\n",
       "  'hvac_zone_assembly_111',\n",
       "  'hvac_zone_electrical_room123'],\n",
       " 'ciee': ['hvac_zone_centralzone',\n",
       "  'hvac_zone_eastzone',\n",
       "  'hvac_zone_northzone',\n",
       "  'hvac_zone_southzone'],\n",
       " 'north-berkeley-senior-center': ['hvac_zone_ac_1',\n",
       "  'hvac_zone_ac_3',\n",
       "  'hvac_zone_ac_5'],\n",
       " 'avenal-animal-shelter': ['hvac_zone_shelter_corridor'],\n",
       " 'hayward-station-1': ['hvac_zone_ac_2',\n",
       "  'hvac_zone_ac_3',\n",
       "  'hvac_zone_ac_4',\n",
       "  'hvac_zone_ac_5',\n",
       "  'hvac_zone_ac_6',\n",
       "  'hvac_zone_ac_7',\n",
       "  'hvac_zone_ac_1'],\n",
       " 'avenal-recreation-center': ['hvac_zone_large_room', 'hvac_zone_tech_center'],\n",
       " 'berkeley-corporate-yard': ['hvac_zone_parks_assembly',\n",
       "  'hvac_zone_radioshop',\n",
       "  'hvac_zone_s_and_u_open_office',\n",
       "  'hvac_zone_scott_britt_rm',\n",
       "  'hvac_zone_cs_open_office',\n",
       "  'hvac_zone_electricalshop',\n",
       "  'hvac_zone_fac_main_dept',\n",
       "  'hvac_zone_green_room'],\n",
       " 'local-butcher-shop': ['hvac_zone_retail_space'],\n",
       " 'south-berkeley-senior-center': ['hvac_zone_ac_2',\n",
       "  'hvac_zone_ac_3',\n",
       "  'hvac_zone_front_office'],\n",
       " 'hayward-station-8': ['hvac_zone_f_3', 'hvac_zone_f_1', 'hvac_zone_f_2'],\n",
       " 'word-of-faith-cc': ['hvac_zone_hospitality',\n",
       "  'hvac_zone_fellowship_hall',\n",
       "  'hvac_zone_lobby',\n",
       "  'hvac_zone_sanctuary_lb_2',\n",
       "  'hvac_zone_sanctuary_rf_2',\n",
       "  'hvac_zone_school_age_rm',\n",
       "  'hvac_zone_pre_k_classroom'],\n",
       " 'avenal-veterans-hall': ['hvac_zone_ac_3',\n",
       "  'hvac_zone_ac_1',\n",
       "  'hvac_zone_ac_4',\n",
       "  'hvac_zone_ac_6',\n",
       "  'hvac_zone_ac_5',\n",
       "  'hvac_zone_ac_2'],\n",
       " 'orinda-community-center': ['hvac_zone_ac_7',\n",
       "  'hvac_zone_rm7',\n",
       "  'hvac_zone_kinder_gym',\n",
       "  'hvac_zone_ac_6',\n",
       "  'hvac_zone_ac_3',\n",
       "  'hvac_zone_rm1',\n",
       "  'hvac_zone_ac_4',\n",
       "  'hvac_zone_ac_5',\n",
       "  'hvac_zone_rm6',\n",
       "  'hvac_zone_ac_1',\n",
       "  'hvac_zone_front_office',\n",
       "  'hvac_zone_ac_2',\n",
       "  'hvac_zone_rm2',\n",
       "  'hvac_zone_ac_8'],\n",
       " 'avenal-public-works-yard': ['hvac_zone_public_works'],\n",
       " 'avenal-movie-theatre': ['hvac_zone_lobby',\n",
       "  'hvac_zone_main_hallway',\n",
       "  'hvac_zone_room_a',\n",
       "  'hvac_zone_theater_2',\n",
       "  'hvac_zone_back_hallway',\n",
       "  'hvac_zone_room_d',\n",
       "  'hvac_zone_pegasus_hall',\n",
       "  'hvac_zone_theater_1'],\n",
       " 'csu-dominguez-hills': ['hvac_zone_sac_2101',\n",
       "  'hvac_zone_sac_2114',\n",
       "  'hvac_zone_sac_2150',\n",
       "  'hvac_zone_sac_2126',\n",
       "  'hvac_zone_sac_2113a',\n",
       "  'hvac_zone_sac_2104',\n",
       "  'hvac_zone_sac_2_corridor',\n",
       "  'hvac_zone_sac_2106',\n",
       "  'hvac_zone_sac_2129',\n",
       "  'hvac_zone_sac_2107',\n",
       "  'hvac_zone_sac_2113',\n",
       "  'hvac_zone_sac_2149',\n",
       "  'hvac_zone_sac_2102',\n",
       "  'hvac_zone_sac_2103',\n",
       "  'hvac_zone_sac_2144',\n",
       "  'hvac_zone_sac_2105',\n",
       "  'hvac_zone_sac_2134']}"
      ]
     },
     "execution_count": 5,
     "metadata": {},
     "output_type": "execute_result"
    }
   ],
   "source": [
    "result = xbos_services_getter.get_all_buildings_zones(building_zone_names_stub)\n",
    "result"
   ]
  },
  {
   "cell_type": "code",
   "execution_count": 6,
   "metadata": {},
   "outputs": [
    {
     "data": {
      "text/plain": [
       "<xbos_services_getter.lib.optimizer_pb2_grpc.OptimizerStub at 0x11d48b198>"
      ]
     },
     "execution_count": 6,
     "metadata": {},
     "output_type": "execute_result"
    }
   ],
   "source": [
    "optimizer_stub = xbos_services_getter.get_optimizer_stub()\n",
    "optimizer_stub"
   ]
  },
  {
   "cell_type": "code",
   "execution_count": 9,
   "metadata": {
    "scrolled": true
   },
   "outputs": [
    {
     "ename": "_Rendezvous",
     "evalue": "<_Rendezvous of RPC that terminated with:\n\tstatus = StatusCode.CANCELLED\n\tdetails = \"Received http2 header with status: 404\"\n\tdebug_error_string = \"{\"created\":\"@1556907276.876255000\",\"description\":\"Received http2 :status header with non-200 OK status\",\"file\":\"src/core/ext/filters/http/client/http_client_filter.cc\",\"file_line\":100,\"grpc_message\":\"Received http2 header with status: 404\",\"grpc_status\":1,\"value\":\"404\"}\"\n>",
     "output_type": "error",
     "traceback": [
      "\u001b[0;31m---------------------------------------------------------------------------\u001b[0m",
      "\u001b[0;31m_Rendezvous\u001b[0m                               Traceback (most recent call last)",
      "\u001b[0;32m<ipython-input-9-c07f167907b2>\u001b[0m in \u001b[0;36m<module>\u001b[0;34m\u001b[0m\n\u001b[1;32m     10\u001b[0m                                                              \u001b[0mwindow\u001b[0m\u001b[0;34m=\u001b[0m\u001b[0;34m\"15T\"\u001b[0m\u001b[0;34m,\u001b[0m \u001b[0mlambda_val\u001b[0m\u001b[0;34m=\u001b[0m\u001b[0;36m0.5\u001b[0m\u001b[0;34m,\u001b[0m\u001b[0;34m\u001b[0m\u001b[0;34m\u001b[0m\u001b[0m\n\u001b[1;32m     11\u001b[0m                                                              \u001b[0mstarting_temperatures\u001b[0m\u001b[0;34m=\u001b[0m\u001b[0;34m{\u001b[0m\u001b[0;34m'hvac_zone_centralzone'\u001b[0m\u001b[0;34m:\u001b[0m\u001b[0;36m72\u001b[0m\u001b[0;34m}\u001b[0m\u001b[0;34m,\u001b[0m\u001b[0;34m\u001b[0m\u001b[0;34m\u001b[0m\u001b[0m\n\u001b[0;32m---> 12\u001b[0;31m                                                              unit='F')\n\u001b[0m",
      "\u001b[0;32m/anaconda3/lib/python3.7/site-packages/xbos_services_getter/xbos_services_getter.py\u001b[0m in \u001b[0;36mget_mpc_optimization\u001b[0;34m(optimizer_stub, building, zones, start, end, window, lambda_val, starting_temperatures, unit)\u001b[0m\n\u001b[1;32m    841\u001b[0m             \u001b[0mlambda_val\u001b[0m\u001b[0;34m=\u001b[0m\u001b[0mlambda_val\u001b[0m\u001b[0;34m,\u001b[0m\u001b[0;34m\u001b[0m\u001b[0;34m\u001b[0m\u001b[0m\n\u001b[1;32m    842\u001b[0m             \u001b[0mstarting_temperatures\u001b[0m\u001b[0;34m=\u001b[0m\u001b[0mstarting_temperatures\u001b[0m\u001b[0;34m,\u001b[0m\u001b[0;34m\u001b[0m\u001b[0;34m\u001b[0m\u001b[0m\n\u001b[0;32m--> 843\u001b[0;31m             unit=unit))\n\u001b[0m\u001b[1;32m    844\u001b[0m \u001b[0;34m\u001b[0m\u001b[0m\n\u001b[1;32m    845\u001b[0m     \u001b[0;32mreturn\u001b[0m \u001b[0;34m{\u001b[0m\u001b[0miter_zone\u001b[0m\u001b[0;34m:\u001b[0m \u001b[0moptimizer_response\u001b[0m\u001b[0;34m.\u001b[0m\u001b[0mactions\u001b[0m\u001b[0;34m[\u001b[0m\u001b[0miter_zone\u001b[0m\u001b[0;34m]\u001b[0m \u001b[0;32mfor\u001b[0m \u001b[0miter_zone\u001b[0m \u001b[0;32min\u001b[0m \u001b[0mzones\u001b[0m\u001b[0;34m}\u001b[0m\u001b[0;34m\u001b[0m\u001b[0;34m\u001b[0m\u001b[0m\n",
      "\u001b[0;32m/anaconda3/lib/python3.7/site-packages/grpc/_channel.py\u001b[0m in \u001b[0;36m__call__\u001b[0;34m(self, request, timeout, metadata, credentials)\u001b[0m\n\u001b[1;32m    531\u001b[0m     \u001b[0;32mdef\u001b[0m \u001b[0m__call__\u001b[0m\u001b[0;34m(\u001b[0m\u001b[0mself\u001b[0m\u001b[0;34m,\u001b[0m \u001b[0mrequest\u001b[0m\u001b[0;34m,\u001b[0m \u001b[0mtimeout\u001b[0m\u001b[0;34m=\u001b[0m\u001b[0;32mNone\u001b[0m\u001b[0;34m,\u001b[0m \u001b[0mmetadata\u001b[0m\u001b[0;34m=\u001b[0m\u001b[0;32mNone\u001b[0m\u001b[0;34m,\u001b[0m \u001b[0mcredentials\u001b[0m\u001b[0;34m=\u001b[0m\u001b[0;32mNone\u001b[0m\u001b[0;34m)\u001b[0m\u001b[0;34m:\u001b[0m\u001b[0;34m\u001b[0m\u001b[0;34m\u001b[0m\u001b[0m\n\u001b[1;32m    532\u001b[0m         \u001b[0mstate\u001b[0m\u001b[0;34m,\u001b[0m \u001b[0mcall\u001b[0m\u001b[0;34m,\u001b[0m \u001b[0;34m=\u001b[0m \u001b[0mself\u001b[0m\u001b[0;34m.\u001b[0m\u001b[0m_blocking\u001b[0m\u001b[0;34m(\u001b[0m\u001b[0mrequest\u001b[0m\u001b[0;34m,\u001b[0m \u001b[0mtimeout\u001b[0m\u001b[0;34m,\u001b[0m \u001b[0mmetadata\u001b[0m\u001b[0;34m,\u001b[0m \u001b[0mcredentials\u001b[0m\u001b[0;34m)\u001b[0m\u001b[0;34m\u001b[0m\u001b[0;34m\u001b[0m\u001b[0m\n\u001b[0;32m--> 533\u001b[0;31m         \u001b[0;32mreturn\u001b[0m \u001b[0m_end_unary_response_blocking\u001b[0m\u001b[0;34m(\u001b[0m\u001b[0mstate\u001b[0m\u001b[0;34m,\u001b[0m \u001b[0mcall\u001b[0m\u001b[0;34m,\u001b[0m \u001b[0;32mFalse\u001b[0m\u001b[0;34m,\u001b[0m \u001b[0;32mNone\u001b[0m\u001b[0;34m)\u001b[0m\u001b[0;34m\u001b[0m\u001b[0;34m\u001b[0m\u001b[0m\n\u001b[0m\u001b[1;32m    534\u001b[0m \u001b[0;34m\u001b[0m\u001b[0m\n\u001b[1;32m    535\u001b[0m     \u001b[0;32mdef\u001b[0m \u001b[0mwith_call\u001b[0m\u001b[0;34m(\u001b[0m\u001b[0mself\u001b[0m\u001b[0;34m,\u001b[0m \u001b[0mrequest\u001b[0m\u001b[0;34m,\u001b[0m \u001b[0mtimeout\u001b[0m\u001b[0;34m=\u001b[0m\u001b[0;32mNone\u001b[0m\u001b[0;34m,\u001b[0m \u001b[0mmetadata\u001b[0m\u001b[0;34m=\u001b[0m\u001b[0;32mNone\u001b[0m\u001b[0;34m,\u001b[0m \u001b[0mcredentials\u001b[0m\u001b[0;34m=\u001b[0m\u001b[0;32mNone\u001b[0m\u001b[0;34m)\u001b[0m\u001b[0;34m:\u001b[0m\u001b[0;34m\u001b[0m\u001b[0;34m\u001b[0m\u001b[0m\n",
      "\u001b[0;32m/anaconda3/lib/python3.7/site-packages/grpc/_channel.py\u001b[0m in \u001b[0;36m_end_unary_response_blocking\u001b[0;34m(state, call, with_call, deadline)\u001b[0m\n\u001b[1;32m    465\u001b[0m             \u001b[0;32mreturn\u001b[0m \u001b[0mstate\u001b[0m\u001b[0;34m.\u001b[0m\u001b[0mresponse\u001b[0m\u001b[0;34m\u001b[0m\u001b[0;34m\u001b[0m\u001b[0m\n\u001b[1;32m    466\u001b[0m     \u001b[0;32melse\u001b[0m\u001b[0;34m:\u001b[0m\u001b[0;34m\u001b[0m\u001b[0;34m\u001b[0m\u001b[0m\n\u001b[0;32m--> 467\u001b[0;31m         \u001b[0;32mraise\u001b[0m \u001b[0m_Rendezvous\u001b[0m\u001b[0;34m(\u001b[0m\u001b[0mstate\u001b[0m\u001b[0;34m,\u001b[0m \u001b[0;32mNone\u001b[0m\u001b[0;34m,\u001b[0m \u001b[0;32mNone\u001b[0m\u001b[0;34m,\u001b[0m \u001b[0mdeadline\u001b[0m\u001b[0;34m)\u001b[0m\u001b[0;34m\u001b[0m\u001b[0;34m\u001b[0m\u001b[0m\n\u001b[0m\u001b[1;32m    468\u001b[0m \u001b[0;34m\u001b[0m\u001b[0m\n\u001b[1;32m    469\u001b[0m \u001b[0;34m\u001b[0m\u001b[0m\n",
      "\u001b[0;31m_Rendezvous\u001b[0m: <_Rendezvous of RPC that terminated with:\n\tstatus = StatusCode.CANCELLED\n\tdetails = \"Received http2 header with status: 404\"\n\tdebug_error_string = \"{\"created\":\"@1556907276.876255000\",\"description\":\"Received http2 :status header with non-200 OK status\",\"file\":\"src/core/ext/filters/http/client/http_client_filter.cc\",\"file_line\":100,\"grpc_message\":\"Received http2 header with status: 404\",\"grpc_status\":1,\"value\":\"404\"}\"\n>"
     ]
    }
   ],
   "source": [
    "# start = datetime(2019, 5, 1, 10, 0, 0)\n",
    "# end = datetime(2019, 5, 1, 14, 0, 0)\n",
    "import pytz\n",
    "start = pytz.timezone(\"US/Pacific\").localize(datetime.datetime(year=2018, month=1, day=1, hour=0, minute=0))\n",
    "end = start + datetime.timedelta(days=7)\n",
    "\n",
    "mpc_optimization = xbos_services_getter.get_mpc_optimization(optimizer_stub, \n",
    "                                                             building='ciee', zones='hvac_zone_eastzone', \n",
    "                                                             start=start, end=end, \n",
    "                                                             window=\"15T\", lambda_val=0.5, \n",
    "                                                             starting_temperatures={'hvac_zone_centralzone':72}, \n",
    "                                                             unit='F')\n"
   ]
  },
  {
   "cell_type": "code",
   "execution_count": 1,
   "metadata": {},
   "outputs": [],
   "source": [
    "import numpy as np\n",
    "arr = np.array([1,2,3,4])"
   ]
  },
  {
   "cell_type": "code",
   "execution_count": 3,
   "metadata": {},
   "outputs": [
    {
     "data": {
      "text/plain": [
       "array([1, 2])"
      ]
     },
     "execution_count": 3,
     "metadata": {},
     "output_type": "execute_result"
    }
   ],
   "source": [
    "arr[0:2]"
   ]
  },
  {
   "cell_type": "code",
   "execution_count": null,
   "metadata": {},
   "outputs": [],
   "source": []
  }
 ],
 "metadata": {
  "kernelspec": {
   "display_name": "Python 3",
   "language": "python",
   "name": "python3"
  },
  "language_info": {
   "codemirror_mode": {
    "name": "ipython",
    "version": 3
   },
   "file_extension": ".py",
   "mimetype": "text/x-python",
   "name": "python",
   "nbconvert_exporter": "python",
   "pygments_lexer": "ipython3",
   "version": "3.7.3"
  }
 },
 "nbformat": 4,
 "nbformat_minor": 2
}
